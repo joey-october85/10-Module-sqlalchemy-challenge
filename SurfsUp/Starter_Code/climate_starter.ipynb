{
 "cells": [
  {
   "cell_type": "code",
   "execution_count": 1,
   "metadata": {},
   "outputs": [],
   "source": [
    "%matplotlib inline\n",
    "from matplotlib import style\n",
    "style.use('fivethirtyeight')\n",
    "import matplotlib.pyplot as plt"
   ]
  },
  {
   "cell_type": "code",
   "execution_count": 2,
   "metadata": {},
   "outputs": [],
   "source": [
    "import numpy as np\n",
    "import pandas as pd\n",
    "import datetime as dt"
   ]
  },
  {
   "attachments": {},
   "cell_type": "markdown",
   "metadata": {},
   "source": [
    "# Reflect Tables into SQLAlchemy ORM"
   ]
  },
  {
   "cell_type": "code",
   "execution_count": 3,
   "metadata": {},
   "outputs": [],
   "source": [
    "# Python SQL toolkit and Object Relational Mapper\n",
    "import sqlalchemy\n",
    "from sqlalchemy.ext.automap import automap_base\n",
    "from sqlalchemy.orm import Session\n",
    "from sqlalchemy import create_engine, func, inspect"
   ]
  },
  {
   "cell_type": "code",
   "execution_count": 4,
   "metadata": {},
   "outputs": [],
   "source": [
    "# create engine to hawaii.sqlite\n",
    "engine = create_engine(\"sqlite:///Resources/hawaii.sqlite\")"
   ]
  },
  {
   "cell_type": "code",
   "execution_count": 5,
   "metadata": {},
   "outputs": [],
   "source": [
    "# reflect an existing database into a new model\n",
    "Base = automap_base()\n",
    "\n",
    "# reflect the tables\n",
    "Base.prepare(autoload_with=engine)"
   ]
  },
  {
   "cell_type": "code",
   "execution_count": 6,
   "metadata": {},
   "outputs": [
    {
     "data": {
      "text/plain": [
       "['measurement', 'station']"
      ]
     },
     "execution_count": 6,
     "metadata": {},
     "output_type": "execute_result"
    }
   ],
   "source": [
    "# View all of the classes that automap found\n",
    "Base.classes.keys()"
   ]
  },
  {
   "cell_type": "code",
   "execution_count": 60,
   "metadata": {},
   "outputs": [],
   "source": [
    "# Save references to each table\n",
    "Measr = Base.classes.measurement\n",
    "Station = Base.classes.station"
   ]
  },
  {
   "cell_type": "code",
   "execution_count": 61,
   "metadata": {},
   "outputs": [],
   "source": [
    "# Create our session (link) from Python to the DB\n",
    "session = Session(engine)"
   ]
  },
  {
   "attachments": {},
   "cell_type": "markdown",
   "metadata": {},
   "source": [
    "# Exploratory Precipitation Analysis"
   ]
  },
  {
   "cell_type": "code",
   "execution_count": 62,
   "metadata": {},
   "outputs": [
    {
     "name": "stdout",
     "output_type": "stream",
     "text": [
      "measurement\n",
      "id INTEGER\n",
      "station TEXT\n",
      "date TEXT\n",
      "prcp FLOAT\n",
      "tobs FLOAT\n"
     ]
    }
   ],
   "source": [
    "#inspect table columns\n",
    "inspector = inspect(engine)\n",
    "print('measurement')\n",
    "columns = inspector.get_columns('measurement')\n",
    "for c in columns:\n",
    "    print(c['name'], c['type'])"
   ]
  },
  {
   "cell_type": "code",
   "execution_count": 63,
   "metadata": {},
   "outputs": [
    {
     "name": "stdout",
     "output_type": "stream",
     "text": [
      "measurement\n",
      "id INTEGER\n",
      "station TEXT\n",
      "date TEXT\n",
      "prcp FLOAT\n",
      "tobs FLOAT\n"
     ]
    }
   ],
   "source": [
    "#inspect table columns\n",
    "inspector = inspect(engine)\n",
    "print('measurement')\n",
    "columns = inspector.get_columns('measurement')\n",
    "for c in columns:\n",
    "    print(c['name'], c['type'])"
   ]
  },
  {
   "cell_type": "code",
   "execution_count": 10,
   "metadata": {},
   "outputs": [
    {
     "data": {
      "text/plain": [
       "('2017-08-23',)"
      ]
     },
<<<<<<< HEAD
     "execution_count": 10,
=======
     "execution_count": 63,
>>>>>>> dd833d8696d66fd85ce77aa1e013de234bbb2936
     "metadata": {},
     "output_type": "execute_result"
    }
   ],
   "source": [
    "# Find the most recent date in the data set.\n",
<<<<<<< HEAD
    "recent = session.query(Measr.date).order_by(Measr.date.desc()).first()\n",
=======
    "recent = session.query(measr.date).order_by(measr.date.desc()).first()\n",
>>>>>>> dd833d8696d66fd85ce77aa1e013de234bbb2936
    "recent"
   ]
  },
  {
   "cell_type": "code",
<<<<<<< HEAD
   "execution_count": 11,
=======
   "execution_count": 64,
>>>>>>> dd833d8696d66fd85ce77aa1e013de234bbb2936
   "metadata": {},
   "outputs": [
    {
     "name": "stdout",
     "output_type": "stream",
     "text": [
      "2016-08-23\n"
     ]
    }
   ],
   "source": [
    "# Design a query to retrieve the last 12 months of precipitation data and plot the results. \n",
    "# Starting from the most recent data point in the database. \n",
    "\n",
    "# Calculate the date one year from the last date in data set.\n",
    "year = dt.date(2017,8,23) - dt.timedelta(days=365)\n",
    "\n",
    "print(year)"
   ]
  },
  {
   "cell_type": "code",
<<<<<<< HEAD
   "execution_count": 12,
=======
   "execution_count": 119,
>>>>>>> dd833d8696d66fd85ce77aa1e013de234bbb2936
   "metadata": {
    "tags": []
   },
   "outputs": [],
   "source": [
    "# Perform a query to retrieve the data and precipitation scores\n",
<<<<<<< HEAD
    "sel = [Measr.date,\n",
    "      Measr.prcp,\n",
    "      ]\n",
    "\n",
    "prev_year = session.query(*sel).\\\n",
    "    filter(Measr.date >= year).\\\n",
    "    order_by(Measr.date).all()"
=======
    "sel = [measr.date,\n",
    "      measr.prcp,\n",
    "      ]\n",
    "\n",
    "prev_year = session.query(*sel).\\\n",
    "    filter(measr.date >= year).\\\n",
    "    order_by(measr.date).all()"
>>>>>>> dd833d8696d66fd85ce77aa1e013de234bbb2936
   ]
  },
  {
   "cell_type": "code",
<<<<<<< HEAD
   "execution_count": 13,
=======
   "execution_count": 150,
>>>>>>> dd833d8696d66fd85ce77aa1e013de234bbb2936
   "metadata": {},
   "outputs": [
    {
     "data": {
      "text/html": [
       "<div>\n",
       "<style scoped>\n",
       "    .dataframe tbody tr th:only-of-type {\n",
       "        vertical-align: middle;\n",
       "    }\n",
       "\n",
       "    .dataframe tbody tr th {\n",
       "        vertical-align: top;\n",
       "    }\n",
       "\n",
       "    .dataframe thead th {\n",
       "        text-align: right;\n",
       "    }\n",
       "</style>\n",
       "<table border=\"1\" class=\"dataframe\">\n",
       "  <thead>\n",
       "    <tr style=\"text-align: right;\">\n",
       "      <th></th>\n",
       "      <th>date</th>\n",
       "      <th>precipitation</th>\n",
       "    </tr>\n",
       "  </thead>\n",
       "  <tbody>\n",
       "    <tr>\n",
       "      <th>0</th>\n",
       "      <td>2016-08-23</td>\n",
       "      <td>0.00</td>\n",
       "    </tr>\n",
       "    <tr>\n",
       "      <th>1</th>\n",
       "      <td>2016-08-23</td>\n",
       "      <td>0.15</td>\n",
       "    </tr>\n",
       "    <tr>\n",
       "      <th>2</th>\n",
       "      <td>2016-08-23</td>\n",
       "      <td>0.05</td>\n",
       "    </tr>\n",
       "    <tr>\n",
       "      <th>3</th>\n",
       "      <td>2016-08-23</td>\n",
       "      <td>NaN</td>\n",
       "    </tr>\n",
       "    <tr>\n",
       "      <th>4</th>\n",
       "      <td>2016-08-23</td>\n",
       "      <td>0.02</td>\n",
       "    </tr>\n",
       "    <tr>\n",
       "      <th>...</th>\n",
       "      <td>...</td>\n",
       "      <td>...</td>\n",
       "    </tr>\n",
       "    <tr>\n",
       "      <th>2225</th>\n",
       "      <td>2017-08-22</td>\n",
       "      <td>0.50</td>\n",
       "    </tr>\n",
       "    <tr>\n",
       "      <th>2226</th>\n",
       "      <td>2017-08-23</td>\n",
       "      <td>0.00</td>\n",
       "    </tr>\n",
       "    <tr>\n",
       "      <th>2227</th>\n",
       "      <td>2017-08-23</td>\n",
       "      <td>0.00</td>\n",
       "    </tr>\n",
       "    <tr>\n",
       "      <th>2228</th>\n",
       "      <td>2017-08-23</td>\n",
       "      <td>0.08</td>\n",
       "    </tr>\n",
       "    <tr>\n",
       "      <th>2229</th>\n",
       "      <td>2017-08-23</td>\n",
       "      <td>0.45</td>\n",
       "    </tr>\n",
       "  </tbody>\n",
       "</table>\n",
       "<p>2230 rows × 2 columns</p>\n",
       "</div>"
      ],
      "text/plain": [
       "           date  precipitation\n",
       "0    2016-08-23           0.00\n",
       "1    2016-08-23           0.15\n",
       "2    2016-08-23           0.05\n",
       "3    2016-08-23            NaN\n",
       "4    2016-08-23           0.02\n",
       "...         ...            ...\n",
       "2225 2017-08-22           0.50\n",
       "2226 2017-08-23           0.00\n",
       "2227 2017-08-23           0.00\n",
       "2228 2017-08-23           0.08\n",
       "2229 2017-08-23           0.45\n",
       "\n",
       "[2230 rows x 2 columns]"
      ]
     },
<<<<<<< HEAD
     "execution_count": 13,
=======
     "execution_count": 150,
>>>>>>> dd833d8696d66fd85ce77aa1e013de234bbb2936
     "metadata": {},
     "output_type": "execute_result"
    }
   ],
   "source": [
    "# Save the query results as a Pandas DataFrame. Explicitly set the column names\n",
    "\n",
    "df = pd.DataFrame(prev_year)\n",
    "\n",
    "df['date'] = df['date'].astype('datetime64[ns]')\n",
    "\n",
    "precp_df = df.rename(columns={\"date\":\"date\", \"prcp\": \"precipitation\"})\n",
    "\n",
    "precp_df\n"
   ]
  },
  {
   "cell_type": "code",
<<<<<<< HEAD
   "execution_count": 14,
=======
   "execution_count": 116,
>>>>>>> dd833d8696d66fd85ce77aa1e013de234bbb2936
   "metadata": {},
   "outputs": [
    {
     "name": "stdout",
     "output_type": "stream",
     "text": [
      "<class 'pandas.core.frame.DataFrame'>\n",
      "Int64Index: 2230 entries, 0 to 2229\n",
      "Data columns (total 2 columns):\n",
      " #   Column         Non-Null Count  Dtype         \n",
      "---  ------         --------------  -----         \n",
      " 0   date           2230 non-null   datetime64[ns]\n",
      " 1   precipitation  2021 non-null   float64       \n",
      "dtypes: datetime64[ns](1), float64(1)\n",
      "memory usage: 52.3 KB\n"
     ]
    },
    {
     "data": {
      "text/html": [
       "<div>\n",
       "<style scoped>\n",
       "    .dataframe tbody tr th:only-of-type {\n",
       "        vertical-align: middle;\n",
       "    }\n",
       "\n",
       "    .dataframe tbody tr th {\n",
       "        vertical-align: top;\n",
       "    }\n",
       "\n",
       "    .dataframe thead th {\n",
       "        text-align: right;\n",
       "    }\n",
       "</style>\n",
       "<table border=\"1\" class=\"dataframe\">\n",
       "  <thead>\n",
       "    <tr style=\"text-align: right;\">\n",
       "      <th></th>\n",
       "      <th>date</th>\n",
       "      <th>precipitation</th>\n",
       "    </tr>\n",
       "  </thead>\n",
       "  <tbody>\n",
       "    <tr>\n",
       "      <th>0</th>\n",
       "      <td>2016-08-23</td>\n",
       "      <td>0.00</td>\n",
       "    </tr>\n",
       "    <tr>\n",
       "      <th>1</th>\n",
       "      <td>2016-08-23</td>\n",
       "      <td>0.15</td>\n",
       "    </tr>\n",
       "    <tr>\n",
       "      <th>2</th>\n",
       "      <td>2016-08-23</td>\n",
       "      <td>0.05</td>\n",
       "    </tr>\n",
       "    <tr>\n",
       "      <th>3</th>\n",
       "      <td>2016-08-23</td>\n",
       "      <td>NaN</td>\n",
       "    </tr>\n",
       "    <tr>\n",
       "      <th>4</th>\n",
       "      <td>2016-08-23</td>\n",
       "      <td>0.02</td>\n",
       "    </tr>\n",
       "    <tr>\n",
       "      <th>...</th>\n",
       "      <td>...</td>\n",
       "      <td>...</td>\n",
       "    </tr>\n",
       "    <tr>\n",
       "      <th>2225</th>\n",
       "      <td>2017-08-22</td>\n",
       "      <td>0.50</td>\n",
       "    </tr>\n",
       "    <tr>\n",
       "      <th>2228</th>\n",
       "      <td>2017-08-23</td>\n",
       "      <td>0.08</td>\n",
       "    </tr>\n",
       "    <tr>\n",
       "      <th>2226</th>\n",
       "      <td>2017-08-23</td>\n",
       "      <td>0.00</td>\n",
       "    </tr>\n",
       "    <tr>\n",
       "      <th>2227</th>\n",
       "      <td>2017-08-23</td>\n",
       "      <td>0.00</td>\n",
       "    </tr>\n",
       "    <tr>\n",
       "      <th>2229</th>\n",
       "      <td>2017-08-23</td>\n",
       "      <td>0.45</td>\n",
       "    </tr>\n",
       "  </tbody>\n",
       "</table>\n",
       "<p>2230 rows × 2 columns</p>\n",
       "</div>"
      ],
      "text/plain": [
       "           date  precipitation\n",
       "0    2016-08-23           0.00\n",
       "1    2016-08-23           0.15\n",
       "2    2016-08-23           0.05\n",
       "3    2016-08-23            NaN\n",
       "4    2016-08-23           0.02\n",
       "...         ...            ...\n",
       "2225 2017-08-22           0.50\n",
       "2228 2017-08-23           0.08\n",
       "2226 2017-08-23           0.00\n",
       "2227 2017-08-23           0.00\n",
       "2229 2017-08-23           0.45\n",
       "\n",
       "[2230 rows x 2 columns]"
      ]
     },
<<<<<<< HEAD
     "execution_count": 14,
=======
     "execution_count": 116,
>>>>>>> dd833d8696d66fd85ce77aa1e013de234bbb2936
     "metadata": {},
     "output_type": "execute_result"
    }
   ],
   "source": [
    "# Sort the dataframe by date\n",
    "sorted_df = precp_df.sort_values(\"date\")\n",
    "\n",
    "# dataframe info\n",
    "sorted_df.info()\n",
    "sorted_df"
   ]
  },
  {
   "cell_type": "code",
<<<<<<< HEAD
   "execution_count": 15,
=======
   "execution_count": 153,
>>>>>>> dd833d8696d66fd85ce77aa1e013de234bbb2936
   "metadata": {},
   "outputs": [
    {
     "data": {
      "image/png": "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",
      "text/plain": [
       "<Figure size 640x480 with 1 Axes>"
      ]
     },
     "metadata": {},
     "output_type": "display_data"
    }
   ],
   "source": [
    "# Use Pandas Plotting with Matplotlib to plot the data\n",
    "x = sorted_df['date']\n",
    "y = sorted_df['precipitation']\n",
    "\n",
    "\n",
    "plt.plot(x, y,label = 'precipitation')\n",
    "plt.ylabel('Inches')\n",
    "plt.xlabel('Date')\n",
    "plt.xticks(rotation='vertical')\n",
    "plt.legend(loc=9)\n",
    "plt.tight_layout()\n",
    "plt.show()\n"
   ]
  },
  {
   "cell_type": "code",
   "execution_count": 10,
   "metadata": {},
   "outputs": [
    {
     "data": {
      "text/plain": [
       "Text(0, 0.5, 'Inches')"
      ]
     },
     "execution_count": 10,
     "metadata": {},
     "output_type": "execute_result"
    },
    {
     "data": {
      "image/png": "iVBORw0KGgoAAAANSUhEUgAAAm4AAAIxCAYAAAD0cDQxAAAAOXRFWHRTb2Z0d2FyZQBNYXRwbG90bGliIHZlcnNpb24zLjYuMiwgaHR0cHM6Ly9tYXRwbG90bGliLm9yZy8o6BhiAAAACXBIWXMAAA9hAAAPYQGoP6dpAACDbklEQVR4nO3dd3gU5fo38O/uJpveCBBaQkc6KCAqTQGRDooNsRwLInBseGzvOaKiKAiKKIjI8fyUrgKKdITQO5EAERBIgARI7237vH/EREJ2k+1T9vu5rnN52J3MPDv3lHueeYqqoKBAABERERFJnlrsAhARERGRfZi4EREREckEEzciIiIimWDiRkRERCQTTNyIiIiIZIKJGxEREZFMMHEjIiIikgkmbkREREQywcSNiIiISCaYuBERERHJhOQTtxUrViAyMrLW/40ePVrsYhIRERF5nJ/YBahLly5d8Oabb1r97tdff8XZs2cxaNAgL5eKiIiIyPtUcp1k3mAwoH379igqKsKZM2fQsGFDsYtERERE5FGSf1Vqy8aNG5GXl4f77ruPSRsRERH5BNkmbsuWLQMAPPnkkyKXhIiIiMg7ZPmqNDU1Fd27d0ejRo1w+vRpaDQasYtERERE5HGyrHFbsWIFLBYLHnvsMSZtRERE5DNkV+NmsVjQtWtXXLt2DSdOnECLFi3s+judTueR8hiNRmRnZ6NBgwbw9/f3yDbI8xhH+WMMlYFxlD/G0HGBgYF2Lyv54UButmvXLly9ehUDBgywO2kDHNspjjKbzfD39/foNsjzGEf5YwyVgXGUP8bQc2T3qpSdEoiIiMhXySpxy8vLw+bNmxEVFYWRI0eKXRwiIiIir5JV4rZ69WoYDAY8/PDDCAgIELs4RERERF4lq8Rt+fLlAPialIiIiHyTbBK3hIQEnDlzBj169ECnTp3ELg4RERGR18mmV2mPHj1QUFAgdjGIJMNisaC0tNRjQ93IjcVigVarRWFhIYqLi8UuDjmprjgGBgYiJCQEarVs6h2I3Eo2iRsR/c1isSA3NxehoaGoX78+VCqV2EUSncVigcFggFar5U1dxmqLoyAI0Ol0yM3NRXR0NONMPolHPZEMlZaWIjQ0FEFBQUzayGeoVCoEBQUhNDQUpaWlYheHSBRM3IhkSKfTcWBL8lmBgYFsIkA+i4kbkUyxpo18FY998mVs4yZjOpOAjanluFBoQv/GAejTiGPbERERKRkTN5kyWgQ8Hp+LHdf0AIDZicWY1TsCL3QMFblkRERE5Cl8VSpTR7IMVUlbpVknimC2CCKViIiIiDyNiZtMfZBQVOOzAoOA33OMIpSGiKzZt28fIiMj8fHHH7u0nhUrViAyMhIrVqxwU8kcN2LECERGRoq2fSKqwMRNpjLLzVY/17PGjchnREZGYsSIEW5Z18cff4zIyEjs27fPLesjIs9gGzciIg/p0aMHjh49iujoaJfWM3LkSPTq1QsxMTFuKpnjvv76a5SXl4u2fSKqwMSNiMhDgoOD0a5dO5fXExERgYiICDeUyHmxsbGibp+IKvBVKRHJzo1txw4cOIDhw4cjNjYW7du3x8SJE3Ht2rVqy3fp0gVdunRBQUEB3njjDXTq1AnR0dHV2owlJSXhmWeewS233IIGDRqgc+fOeP3115GXl2e1DElJSXj++efRsWNHNGzYELfccgvGjRuHLVu2WC2nrfK89NJLaNu2LRo1aoSBAwdi8+bNNbZ1cxu3yvUCwIEDBxAZGVn1v8plCgsL8fnnn2P48OFo3749GjRogPbt22PSpEm4dOlStfWPGDECs2fPBgCMGjWqal1dunSptoy1Nm4mkwkLFy5Enz590KhRI8TFxWHkyJHYtm1brb9jz549GDp0KJo0aYKWLVvihRdesLmviehvrHEjUph7N2aJXQSbfhvZ0K3rO378OObNm4chQ4bg+eefR2JiItauXYsjR44gPj4eDRv+vT2DwYDRo0ejpKQEQ4cOhb+/f9X3mzdvxtNPPw2NRoNhw4ahadOm+PPPP7FkyRLEx8dj586d1ZKWDRs24LnnnoPFYsHQoUPRtm1bZGdnIyEhAcuWLcOwYcPqLLvRaMSYMWOg0+kwfvx4FBYWYt26dZgwYQIWL16Mhx9+2ObfxsXF4c0338Ts2bMRGxuLxx57rOq7ymTr/Pnz+Oijj9CvXz+MHDkSwcHBOH/+PNasWYPt27djz549iIuLA4Cqvz9w4ADGjx9f9XldtXyCIODpp5/Ghg0b0KZNGzz33HMoKyvDzz//jEceeQSzZs3CCy+8UOPvtm7dim3btmHo0KF45plncPDgQaxevRqXL1+2mrgS0d+YuBEpzLFs3+lZvHPnTnzxxRd48sknqyYn//zzzzFr1izMmDEDCxYsqFo2MzMTnTp1wrZt2xAUFFT1eV5eHl544QXUr18fW7durfZKcM2aNXjuuecwc+ZMzJkzBwCQnZ2NyZMnw8/PD5s3b0a3bt2qlenm2j5bMjIy0K5dO+zYsQP+/v4AgKlTp2LAgAF4/fXXMWzYMISFhVn92+bNm+Ptt9/G7NmzERcXh7fffrvGMu3atcOff/6JqKioap/v3bsXY8eOxdy5c/HFF18AACZMmIDU1FQcOHAAjz32GPr162fXb/jhhx+wYcMG9OnTBz///DO0Wi0A4LXXXsPdd9+Nd955B0OHDkWLFi2q/d2WLVuwceNG3HHHHQAAs9mMMWPGYP/+/Th27FiNfUpEf+OrUiKSrbZt2+KJJ56o9tmLL76I+vXrY+3atTAYDNW+mzFjRrWkDQBWrVqFoqIiTJ8+vUY7rgcffBDdunXDunXrqi1fUlKCqVOnWk0wmjZtanf5//3vf1clbUBFsvX444+jsLDQ5ZqniIiIGkkbAPTv3x/t27fH7t27XVo/AKxcuRJAxX6tTNqAin0wZcoUGI1G/PTTTzX+7sEHH6xK2gBAo9Fg/PjxAIATJ064XC4iJWONm8IIHA2EfEjv3r1rzFsZFBSE7t27Y8eOHbh48SI6duwIoGJi8k6dOtVYx/Hjx6v+m5KSUuN7vV6P3Nxc5ObmIjo6GgkJCQCAgQMHulR2f39/9OrVq8bnd955J5YsWYLTp0/jkUcecWkb+/btw6JFi5CQkIDc3FyYTKaq725MtJx16tQpBAUFoUePHjW+69u3LwDg9OnTNb6rLeEtLCx0uVxESsbEjYhkq0GDBrV+XlT090DV9evXtzo5eX5+PgBgyZIltW6rtLQU0dHRVYlF48aNnSpzpXr16kGtrvnSw1rZnfHLL7/g6aefRmhoKAYOHIi4uDgEBQVBpVJh5cqVSEtLc2n9AFBcXGyzhrGy/aC13xEeHl7jM41GA6DitSkR2cbETWGs3JfIx/Rq4F/3QgqRnZ1d6+c3JgjWkjYAVe3IDh48WFU7V5vKBvvp6elo3ry5Q+W9UV5eHiwWS43kzVrZnTFr1iwEBgZi9+7daN26dbXvbnz164qwsLA6Y2CrnR4ROYeJG5HCuLvnppQdOXIEgiBUS8rKy8uRmJiIoKAgtGnTps519OzZExs2bMCxY8fsStx69OiB9evXIz4+vlo7LUcZjUYcO3YMvXv3rvb5oUOHAKDaUBy2qNVqWCwWq99dunQJ7du3r5G0paen1xgOBPi7xsvW+qzp2rUr9u7di4SEhBqvSw8cOADAvt9BRPZj5wSFYRs38iUXLlzAsmXLqn325ZdfIicnB+PGjbOrHdeECRMQFhaGDz74AGfPnq3xfVlZGY4dO1b17/HjxyM0NBQLFy7EqVOnaix//fp1u8s/c+ZMGI1/9wI+f/48li9fjvDwcAwfPrzOv4+KirLZizU2NhaXLl1CVtbfw8PodDpMmzatWlu3G9cF2N8rFkBVh4L333+/2u+4fv06Fi5cCD8/v1qHNSEix7HGjYhka+DAgfjXv/6F7du3o23btkhMTMSuXbvQrFkzTJ8+3a511K9fH//973/xj3/8A3379sXgwYPRtm1b6PV6pKam4uDBg7j99tuxdu1aABVt0BYtWoRnn30WgwYNwrBhw9C2bVvk5ubi+PHjiIuLq+ptWZtGjRqhsLAQ/fr1w5AhQ1BUVIS1a9dCp9Nh/vz5dr1i7N+/P37++Wc8+eST6Nq1KzQaDYYMGYJOnTrh+eefxxtvvIH+/ftj9OjRMJvN2LVrFwRBQOfOnZGUlFRtXf369YNKpcKHH36ICxcuIDw8HOHh4Xj22Wdtbv/RRx/Fhg0bsHnzZvTp0wf33Xdf1ThueXl5+PDDD2sMBUJErmHipjBs40a+pFevXnjttdfw4YcfIj4+Hv7+/njggQcwY8aMaoPv1uW+++7D3r178cUXX2D37t3YtWsXgoOD0aRJEzz22GM1eneOGjUKO3bswLx583DgwAFs2bIF0dHR6NKlC5566im7tunv749ffvkF7777btWQJB07dsTrr79uV20bUNGODagYm23jxo2wWCxo2LAhOnXqhIkTJ8Lf3x/ffPMNli5dioiICAwZMgTTp0/HP/7xjxrrat++PRYuXIgFCxbgq6++gl6vR2xsbK2Jm0qlwtKlS7Fo0SKsWrUK33zzDbRaLbp27YqpU6fa/TuIyH6qgoICvlxzgU6nQ1paGmJjYxEYGOi17XZfk4HLxTV7X20cVh99GwV4rRxKIVYcnZWdnW2zR6Uv2LdvH0aNGoU333yzavDZygF4tVqt1d6aUlLZ7svaUBm+zt44+vo5IGVyu57KjbSvbuQwtnEjIiJSLiZuRERERDLBxE1h2MaNiIhIudg5gYhkp1+/figoKBC7GE5j2zYichZr3BSGbdyIiIiUizVuMsU3okREf9ObBcw5WYwDGXq0i/DDv7qFITaUtzhSHh7VMsWKNSKiv03dn481KeUAgEOZBuy+rsfBsQ0R4s8XS6QsPKIVhp0TiMjXFBosVUlbpSslZuy6rhepRESew8RNYdjGzXcIDDb5qJuP/YMZ1hO0j08UeaM4RF7FxE2mWLHm2wIDA6HT6cQuBpEodDodR+Qnn8XETaZY1+LbQkJCUFJSgvLycta8kc8QBAHl5eUoKSlBSEiI2MUhEgU7JygM27j5BrVajejoaJSWliInJ0fs4kiCxWKpqomR+lylZFtdcQwMDER0dDRjTD6LiZvCsPLFd6jVaoSFhSEsLEzsokiCTqdDUVERYmJi+BpNxhhHotrxkUWmWLFGRETke5i4EREREcmErBK3DRs2YOzYsWjZsiUaNWqErl274tlnn8XVq1fFLprX8Y0oERGR75FFGzdBEPDqq6/iu+++Q8uWLTFu3DiEhoYiPT0dBw4cQFpaGpo1ayZ2MYmIiIg8ShaJ2+LFi/Hdd99h4sSJmDVrFjQaTbXvTSaTSCUTD9u4ERER+R7JvyotLy/H7Nmz0aJFC3z88cc1kjYA8POTRf5JRERexCYlpESSz3h27dqF/Px8PPbYYzCbzdi8eTOSk5MRERGBu+++G61atRK7iEREREReIfnE7cSJEwAqatX69u2LCxcuVH2nVqsxZcoUfPjhh3Wux1PTAxkMhmr/9RZbo+UbDAbodHzOdJRYcST3YQyVwZk4Go1G618IAqeGEwHPRcc5Mmah5BO3ylHhFyxYgG7duiE+Ph7t2rXDqVOn8Morr2DBggVo2bIlnn322VrXc/36dZjNZo+VMzMz02PrtsZkCoS1N93ZWVlIM1i8WhYl8XYcyf0YQ2VwJI7ZuRoAATU+NxqMSEtLc2OpyBE8F+2j0Wgcenso+cTNYqlIQrRaLVasWIHGjRsDAO666y58//336NOnDxYsWFBn4takSROPlM9gMCAzMxMxMTHQarUe2YY1fon5AGomaA0aNkRsjL/XyqEUYsWR3IcxVAZn4thAbQDOFtf43F/rj9jYBu4uItWB56JnST5xCw8PBwB07969Kmmr1KFDB7Ro0QIpKSkoKChAZGSkzfV4euoUrVbr1elZVDYmJa0oR80nT7KPt+NI7scYKoMjcfT3t9E8RKXisSAinoueIflepW3btgUAREREWP2+8nO2YyAiIiKlk3zi1q9fPwDA+fPna3xnNBqRkpKCkJAQ1K9f39tFIyIiCeN4l6REkk/cWrZsiYEDByIlJQVLly6t9t28efNQWFiIESNGcCw3IiIiUjxZZDuffvophgwZgpdeegmbNm1C27ZtcerUKezduxexsbH44IMPxC6iZHAgECIiIuWSfI0bUFHrtmvXLjz22GNITEzE4sWLkZKSgokTJyI+Ph4xMTFiF5GIiIjI42RR4wYAzZo1w1dffSV2MSSPbTqIyNfY6GTPNxCkSLKocSMiIrLFxkQyRIrExE1heP0iIqrANxCkREzciIiIiGSCiZvC8AmTiIhIuZi4ERGRIrHpCCkREzeF4YWKiHyNrV6lRErExE2meJ0iIqpgq1cpr5OkREzcZIo1a0RERL6HiZvC8AmTiIhIuZi4KQxr4oiIiJSLiZtMsWaNiKgCp7wiX8LETaZ4QSIiIvI9TNwUhjVxRORr2KuUfAkTN4VhTRwREZFyMXGTKT5JEhER+R4mbkREJGvsnEC+hImbTPGCRERE5HuYuBERkazZ6pxApERM3GSKbdyIiGrH6yQpERM3IiIiIplg4iZTfDNARFQ7XidJiZi4ERGRrNnqVUqkREzcZIrXKSIiIt/DxI2IiGSNU16RL2HiJlNsu0FEROR7mLgRERERyQQTN5niKwAiogqc8op8CRM3IiIiIplg4kZEREQkE0zciIhI1tirlHwJEzciIiIimWDiRkREssbOCeRLmLgRERERyQQTNyIiIiKZYOJGRESyxs4J5EuYuBERERHJBBM3IiKSNXZOIF/CxE1hbL0yICIiIvmTReLWpUsXREZGWv3fq6++KnbxiIiIiLzCT+wC2Cs8PByTJ0+u8fmtt94qQmmky9YrAyKyn8ki4D/HCvHzpXJEBajxatcwPNI6WOxiERHJJ3GLiIjA22+/LXYxiMgHzPy9CF+fKQUAZJZb8MLefDQL0aBPowCRS0bWsFcp+RJZvCol+7GNG5Hr5p0uqfZvAcCCpBLrCxMReZFsatwMBgNWrlyJ9PR0REZG4vbbb0eXLl3ELhYR+YgtaTqxi0A2sFcp+RLZJG6ZmZmYMmVKtc8GDx6MxYsXIzo6us6/1+k8c9E1GAzV/ustgo2qNaPRAJ2OlytHiRVHch9vxNBT1xH6mzNxNBiMVj8XLAJjJgJeTx0XGBho97KySNwef/xx9OnTBx06dIBWq8Wff/6J2bNn47fffsP48eOxbds2qOpolX/9+nWYzWaPlTEzM9Nj67bGZAqEtTfd2VlZSDNYvFoWJfF2HMn93BND6x0R0tLS3LBusocjcczJUwOoeeMzGo2MmYh4PbWPRqNBq1at7F5eFonbm2++We3fPXv2xA8//IARI0bg0KFD2L59O+67775a19GkSROPlM1gMCAzMxMxMTHQarUe2YY1fon5AGomaA0aNERsI3+vlUMpxIojuY97Y5hr9dPY2FgX10t1cSaO9dUGAMU1Pvf390dsbAM3l5DqwuupZ8kicbNGrVbjsccew6FDh3DkyJE6EzdHqiGdodVqPb6NG6nV1msY/bVaBAay55uzvB1Hcj9PxpDHhvc4Eket1nrzELVaxZiJiNdTz5B1r9LKtm1lZWUil8T72HuUiKh2vEySEsk6cUtISAAAxMXFiVwS6eAAvERERMol+cTt3LlzKCgoqPH5oUOHsHDhQgQEBGDUqFHeL5hEsSaOiIhIuSTfxu3nn3/GF198gf79+yMuLg4BAQE4e/Ys4uPjoVarMW/ePJ9sMMyaNSIiIt8j+cStX79+OH/+PE6ePImDBw9Cp9OhYcOGeOCBBzBlyhT06NFD7CKKgjVrRES14/MtKZHkE7e+ffuib9++YhdDNlgTR0RUgc+3pESSb+NGjmFNHBERkXIxcZMp1qwRERH5HiZuMsWaNSIiIt/DxE1hWBNHRESkXEzcFIY1cUREFfgcS0rExE2mWLNGRFQ7PseSEjFxIyIiIpIJJm4yxVeiREREvoeJGxEREZFMMHGTKbZxIyKqHS+TpERM3IiISJHYooSUiImbTLGNGxERke9h4kZEREQkE0zcZIpt3IiIiHwPEzciIiIimWDiRkRERCQTTNyIiIiIZIKJGxEREZFMMHEjIiIikgkmbkREREQywcSNiIhkTWVjciuOmkRKxMSNiIhkTbAxuRUnmCElYuJGREREJBNM3IiIiIhkgokbERERkUwwcSMiIlmz1TmBSImYuBERERHJBBM3IiKSNVu9SomUiImb4vACRkREpFRM3IiIiIhkgomb4rCRLhERkVIxcSMiIlljr1LyJUzcFIdt3IjIt7BzAvkSJm5EREREMsHETXH4yoCIiEipmLgRERERyQQTN8VhWw8i8i3snEC+RJaJ2/z58xEZGYnIyEgcO3ZM7OKIghcqIiIi3yO7xO3PP//ERx99hJCQELGLIir2oiIiqsDrIfkSWSVuZrMZkydPRufOnTFixAixiyNRrIkjIiJSKlklbp9//jmSkpKwYMECaDQasYsjUXzyJCIi+TNbBBQaLGIXQ3Jkk7idOXMGs2fPxr/+9S906NBB7OKIjm3ciIgq8HqoPIvPlKDVqnS0WJGOMVtzkK9nAldJFombyWTClClT0K5dO7z66qtiF0cS2KaDiIiU6HCmHm8eKUShoeJOtyddj1cO5otdLMnwE7sA9vj000+RlJSEHTt2wN/f36l16HQ6N5eqgsFgqPZfbxEE64mbwWCEh36qookVR3Ifb8TQU9cR+pszcbS1rGARGDMRuHouzk0sqvHZ+ss6RccyMDDQ7mUln7idPn0ac+fOxYsvvoju3bs7vZ7r16/DbDa7r2A3yczM9Ni6rTEZA2GtwjQzOwtpRlYpO8vbcST3c08Mg61+mpaW5oZ1kz0ciWN2nhpAzRuf0WhkzETk7Lm447pvnX8ajQatWrWye3m3JG4WiwVqdc0k4syZM1i+fDkyMjJw2223YeLEiQgICHBo3ZMnT0bLli3x1ltvuVTGJk2auPT3thgMBmRmZiImJgZardYj27DG/2Q+oKuZoDVs0ACxjbxXDqUQK47kPu6NYa7VT2NjY11cL9XFmTjWVxsAFNf43N/fH7GxDdxcQqqL6+ciz7/auJy4LVy4EO+88w7ef/99vPjii1WfHzhwAA8++CD0ej0EQcAvv/yCjRs3YuPGjfDzs3+zSUlJAICYmBir3997770AgOXLl2PkyJE21+NINaQztFqtx7dxI5VKDaBm4ubtcigN95/8eTKGPDa8x5E4BtjIDVRqFWMmInefi4xlBZcTt7179wIAHnjggWqfv/vuu9DpdOjZsyd69uyJn3/+GUePHsX333+PZ5991u71P/HEE1Y/P3jwIJKTkzFs2DDUr18fcXFxzv8IGWLnBCIiIt/jcuJ2/vx5REdHo2nTplWfXb58GQkJCWjevDm2bt0KjUaDRx55BPfccw/WrVvnUOL25ZdfWv188uTJSE5OxrRp09CrVy9Xf4Zi2OizQERERArg8nAgOTk5NdqPHThwAABw//33Vw2U2717d8TFxeHs2bOubpLAcYuIiIh8kcuJm8FgqNFbMyEhASqVCn379q32eYMGDVBcXLMBKRERkbPYdMQ32BoGy9e4nLjFxMQgNTW12ngt8fHxUKvVuP3226stW1paioiICFc3CQBYtGgRCgoKfPY1KS9UREREvsflxO2OO+5ASUkJZs2aheLiYixZsgRXrlxBz549ERYWVrWc0WhESkqKzd6h5B5M54jI17DpCPkSlxO3l156Cf7+/vj888/RvHlzvPnmm1CpVJgyZUq15fbt2weDwYCePXu6ukkCL1RERES+yOXErXPnzli1ahU6deoErVaLVq1a4fPPP8fo0aOrLbd06VIAQP/+/V3dJBEREfkYvlGq4JaZEwYOHIiBAwfWusyXX36J+fPnV3t9Ss5jGzciogq8HpIv8dpcpUzYvIOXLyIiIuVya+JmNBqRmJiI69evo6ysDOPHj3fn6ukGbONGRFSB10PfIAgAQ+3GSebnzJmDRYsWoaioqOrzGxO3l156CXv27MEvv/yCli1bumOzREREtvEVBCmQy50TLBYLHn/8ccyePRtFRUWIjY1FaGhojeUGDx6M1NRUbNy40dVNEhEREfkklxO35cuXY8uWLWjVqhV27dqFkydPolOnTjWWGzx4MDQaDXbu3OnqJqkWHFiaiOgvfK1GCuRy4rZq1SqoVCp8++236Natm83lgoOD0aJFC6Smprq6SSIiIvIxrJeo4HLidubMGTRt2rTWpK1SVFQUMjMzXd0kERERkU9yOXHT6/WIjIy0a9nS0lKo1S5vkoiIqG6soiEFcjmLatSoES5fvgyhjsZVRUVFuHjxImJjY13dJNWC1ykiIlIi3t8quJy49enTB6WlpVVTWtkyf/58mEwm3H333a5ukoiIqG7snEAK5HLiNnXqVKjVavy///f/sHTpUhgMhmrfFxUV4YMPPsC8efMQEBCA559/3tVNEhEREfkklxO3jh074uOPP0Z5eTleeeUVtGjRAqdOnQIADBgwAG3btsW8efMAAHPnzkWLFi1c3SQRkcfU1eyDiEhMbukpMHHiRKxevRrt2rVDeXk5ysrKIAgCTp06BYPBgFatWmHVqlWYMGGCOzZHteA9h4iIlIj3twpum6t0yJAhGDJkCM6dO4ekpCQUFBQgJCQEHTt2tGuoEJKH03lGrEspg59ahYdbB6FthL/YRSIiso43elIgt04yDwDt27dH+/bt3b1akoAjmXqM3ZaLcnPF1XDJ2RJsHt4AHaOYvBEREXkDB1Uju31ztrQqaQOAAoOA7/4sFbFERO7HShoFYa9SReG5WcGtNW7FxcW4dOkSSktLYbFYbC7Xp08fd26WbuDJA3vtpfIan31zthSf3BHpwa0SERFRJbckbomJifjPf/6DQ4cO1dkjS6VSITc31x2bJSIiIvIpLiduiYmJGDFiBMrLyyEIAgICAlC/fn1ObUVEROLiuzVSIJcTt48//hhlZWXo1asXPvnkE3Tv3t0NxSJnfXuuBEOaBUClYuMOImdwyAEiaeK5WcHlarEjR44gMDAQq1evZtImAduv6rHgjxKxi0FEJD4+v5ICuZy46fV6tG3bFvXq1XNHechOtVWoLT7Dnp5ERERK5HLi1qpVK5SVlbmjLOSA2qqMr5aavVcQIoXh2xgiaeK5WcHlxO2xxx5DSkpK1fykREREksA7PSmQy4nb5MmTcc899+DJJ5/EkSNH3FEmIiIiIrLCoV6lU6dOtfp5/fr1sW/fPgwbNgydOnVCmzZtEBwcbHVZlUqFBQsWOF5SqoadRomIiHyPQ4nbypUroVKpah1kNykpCUlJSTa/Z+LmHuwWTeQZPLUUhA+4iiJAAIPqYOL25ptveqocRERETuGtnHyJQ4nbW2+95alyEBEROYW1pORLOC+VTLGNGxFRHZjRKQqbCFVg4iZTPICJPIPnFhFJmcuJ2/r169GiRQt8+umntS43d+5ctGjRAps2bXJ1k0REREQ+yeXEbe3atSgqKsK4ceNqXW7cuHEoLCzE2rVrXd0kERFRFZstR9ikhBTI5cTt9OnTqF+/Plq0aFHrci1btkSDBg2QmJjo6iYJbONGRFSJb7d9A+NcweXELSMjA82aNbNr2WbNmiEzM9Oh9RcUFOCNN97Avffei3bt2qFhw4bo0KEDRo0ahfXr19c6phwRkaN4RVEQBpMUyOXETavVori42K5lS0pKoNFoHFp/Xl4eVqxYgeDgYIwYMQL//Oc/MXjwYJw7dw5PPfUUXnnlFSdKTURERCQ/Do3jZk3r1q2RmJiI1NRUxMXF2VzuypUruHjxIjp37uzQ+ps3b44rV67Az696UYuLi3Hvvffi+++/xwsvvIAOHTo4VX4iIiIiuXC5xu2+++6DIAh45ZVXYDAYrC5jNBoxbdo0AMCwYcMcWr9Go6mRtAFAWFgYBg4cCABISUlxsNRERKR4bAusKHzzXcHlxG3SpElo2LAhdu/ejbvvvhsrV67ExYsXkZ2djYsXL2LFihUYMGAA4uPj0aBBA0yePNkd5YZOp8PevXuhUqnQvn17t6yTiKi2ZrNGC28dUsT8jHyJy69KIyMjsXLlSjz66KM4e/Ys/vnPf9ZYRhAENGjQAKtWrUJkZKRT2ykoKMCiRYtgsViQk5OD3377DVevXsWbb76J1q1b1/n3Op3Oqe3WpbKW0VZto6cIFkut33vq94q9LU8RK47kPu6Koc5sOznrtTYDaweGo2mIY211yX7OxFFvY1mLRVDE9UluPHU91ev08DcrM00PDAy0e1mXEzcA6NGjBw4cOID58+djw4YNSEtLq/ouNjYWY8aMwUsvvYQGDRo4vY3CwkLMnj276t/+/v744IMPrCaK1ly/fh1ms9np7dfF0d6yrjKaAlFbhemNMXCfYC9uSxzejiO5n6sx1FsAW8f65RIL/t+hHHx4CxN8T3Mkjjl5agA1b3xGo1FR1ye5cf5ctHGvuXoVoW7JWqRFo9GgVatWdi+vKigocHvdf0lJCYqLixEWFobQ0FC3rttsNuPq1atYt24dPv74YwwZMgTfffed1XZwN/JkjVtmZiZiYmKg1Wo9sg1r+m7Mx8Vi27VuGeOj3b7NRqtyvbYtbxMrjuQ+7oqhziygxY95tS6jhGNeqpyJ42/XDHhib83RDdpHaLB7eKSbS0h1cfVctHWvufBgFML8lTlTp9dr3G4WGhrq9oStkkajQfPmzfHqq69Co9Fg+vTp+P777/Hss8/W+neO7BRnaLVaj2/jRiq1GoDtxM2bZfHmtjzN23Ek93M1hoKp7mdZHiOe50gcbeUGapWKsRKRu6+nAQGBCNQqM3FzhKz3wD333AMA2L9/v8glISIisXDKK/Ilbqtxu3z5MrZv346UlBSUlpbCYqPxvEqlwoIFC9yyzYyMDACo8zUpEZE77c/Qo2+jALGLQeRT2Ke7glsynunTp2PhwoVV00/VNg2Vo4nbqVOn0Lx5c0RERFT7PD8/HzNmzAAADB482IlSExE55/NTxUzcJMTmHYd3elIglxO3JUuW4MsvvwQAdOjQAb1790aDBg2gVrvnLezKlSuxbNky9O3bF3FxcQgODkZaWhq2b9+OkpISjB49Gg899JBbtkVEJNhxt99xTe+FkhAR1eRy4vbdd99BpVLhP//5T9XsCO40ZswYFBUV4fjx4zh06BDKysoQFRWFO+64A48++ijGjRsHlYoNGUgcuTozntz1dw/EyiPx2fYhuL+l9S7tRL7OZBEwO7EY29J0iA3V4PVuYehen725qXa1DY7tS1xO3FJSUhAdHe2RpA0A7rzzTtx5550eWTeRq/Rm4EBGzTG97otlTzYiW94+WoglZ0sBAKfyjNiXoceBMQ0R6+QgXeycQL7E5feZQUFBtU4uT6RkfAAkcozZIlQlbZWKDALWppSLVCIieXE5cevZsycuX75ca4cEIl/DB3354qXMs/IN1kcceC+hyOl1snMC+RKXE7dXX30VBQUF+Oabb9xRHiIiIiKyweXE7c4778SXX36J9957D6+88gpOnz6N8nJWeZNvYE0zERF5k8udE+rVq1f1/5cuXYqlS5fWurxKpUJurvV5yIiUgj2dibyHZxv5EpcTN0drHFhDQURSxiuUgjCjUxSemxVcTtxOnjzpjnIQyRIvJEQSxhOUFMjlxI1DgYiDD5LSxvgQeQ/zM/Il7pmXiryOFyppYByIiMibHK5xmz17tssbffPNN11eB9VOEAQ2kBcR97x8MRmXH72ZUfMFbCNfweHEbdasWS4nBEzciMhZ35wpwck8I4C/E+ToADXe7hIgXqFINPvS9dXmC66GT1CkQA4nbnfddRdrciSgrggIdixDruMDoPftTddjY6qu2mexoRombj7IIgh4ereNpI1IoRxO3DZt2uSJcpCDmC9IG59tPIfHPlXal25Ajs76FFoAeLAoDMNZgZ0TiFzAC4n3Wdvn7syTWYsqH1dKTGIXgcjrmLgpFG8+4mKFm3dxfxORr2DiJlO8UZGv4kMJEfkyJm4KxXsb+RK2KSSreFwoCu9rFZi4yRQPYGnj/cJzPH3s89xSEAaTFIiJm0LxeuUdfG3nfZ7unEBEJGUuz1VK9svRmaEzCRDw983HX61C42CNw+vijUra+OrOu7i7iZSPD8oVmLh50bO787EnXV/ts46Rfjh4f4xIJSKSIQ9fvb15c0jMMWDFhTKUmwU83DoY/RtzEGHyPT9fKsPmVB2aBGvwTPsQsYsjeUzcRObsPaKuv+OTiXdwN0uDHGs4E3MMGLElB6WmiqNo1cUyrB4cjXubBYpcMiLv+eqPEvy/o4VV/157qVzE0sgD27h5kRxvLuQchtpzlJIsr7hYVpW0AYBZAL49VypiiYi875uzJdX+fbXULFJJ5IOJm8icvQnZM1cpkRJZq01WyTBVXnK2ZpK2NU1nZUkiZTJaBFwutj9R432tAl+VepH8bi1UF194Jb01rRy5f80HqQKgUqlQP1AtqVd6rM0mIl/BxE1knrrx+0JCIWVKSiTmJBYjIcdY7bPeDbWiJW48tH3DkWwj/nXs77ZPlafU/D6RuDOGnTjIdzFx8yJ33stD/RWUGciY4ANphBx+Ic8G+TBa7FuuzCTgQmHNSeTLTHI4IskTWCFRgW3cRObscdgmovacm8e3uOTY5soRYv46HtvytvemIZFscctNWtmnIfkoJm5epKTXZ+Q7pJYoWe+c4Mb1u3FdVNO7N7z+dIZDsWYwSYH4qtRFX50tx740LaLSihGiLUegRoXoQDXeujXcrr/ndUXefDV+UnsIkVp5yLaMcvvelfrqueVL+OrTOUzcXJSQY8KuXD8g1wDAAABoGqyxmri59d5SxwFf0faKdzOxKGnPS+3iKrHikIfYirOSzi1yDM/9CnxV6iKdpeahFODA1KNSuymSYxg/aeDN3HewdlU5ePl0DhM3F+ms9HAK9LN+ZfHm9YYJhbiUdHOR2qHk6fIIIp88CdkGUbcvFXK8hpWZLFhxoRQzEgqx57p9nTCIHMXEzUV6K801KgcrtYcvDCdByiNqr1IPd04Q2+eni8UugqRJNdYGs4BHfsvF1P0F+OxUCcZsy8GiP0rq/kMf5mhyzrtlBSZuLtKbax5KmeUWJOUZa3zuzlqYOieZd9+mqBa+sJ9lUfMh1bu5EzZc4bRXgPzOrYOZeuzLqF5bOvdkMSyyOIFITpi4uUhnY5q1L5Pse2rmOa1MCsojrN5AxXwVzFPG10nz7Jp+rKjGZ7l6C07l1nyIpwo8l53DxM1FBiudEwDgh+TyGp9J83JDnvDz5ZrxVxKpHcscx43Elm3jKZ4TPZC7cTgQD9OZBCTkGBAXar2rqafOaV4rvMPWft59XQ+zRYBGLbUUx3FSO5bE7jxA4lJSxx9yDE/9CpJP3K5fv45ffvkFv/32Gy5cuIDMzExERUWhd+/eePnll9GzZ09Ry1fbgXQ6z4gxW3OQZ60HAynekSwD7mqkzMmwpTbllYp3c8XhlFfKx855zpF84vbNN9/g888/R8uWLXH33XejQYMGSE5OxqZNm7Bp0yZ8++23uP/++0UrX22H3csH8utM2pw9bOvsnMDzwStq289XS200gJQZ1nCRNxktAtLKVbAEW/9eblNe8fQhd5N84nbbbbdh8+bNuOuuu6p9fvDgQYwZMwbTpk3D8OHDERAgvZqN33PYKNWX5Su4plXMGi6rNW4eXj95xy+XyvHP/fkoMQUB4LAoSsfhQJwj+c4Jo0ePrpG0AcBdd92Ffv36IT8/H2fOnBGhZBVcPZA89TTGA1x8RQZlJG5yOJb4RkwZnt2Th5I6WvPL7a243MpL0if5xK02/v7+AACNxoE5pojcqLZbjBwSHmdJbQBeUgYrw2LKHo9X27hrnCP5V6W2pKWlYffu3YiJiUGnTp3qXF6n88yglq62/7EIglNlM5lqbz+l0+kQYPFOXu6pfetNBoOh2n/tpdebbH5nMpkUsW8sVoa8sVgsov02i8VKTaZgcTqGN9PZOfOJJ3+/Eo4bTzEaDNDpKo5Jo7H25ijOXl+dYeteYDDo7T6mlMLec1FvdOz+qdfroFNoRU1gYKDdy8oycTMajZg0aRL0ej3ef/99u2rcrl+/DrPZ/Y3FzeZAuFJxaTaZkJaW5vDflZVpUVv4rl27hiK3R9d6a2Fnyi9VmZmZDi2fUaoCEGT1u8LCQqSl5bqhVOIyGmse43q9DmlphaKUR68PAFD9nDcYjFWxczSGN8szALaO9Ru5ftzb3oaSzqma6t63tcnKykLaX+1H8/M0AGy3bzYajV7bl7buBZmZWUgr963ErVJd52KpCXDkeLh2PR3mAOXV02k0GrRq1cru5WWXuFksFkydOhUHDx7EU089hUcffdSuv2vSpIlHyqNOyIMrFb4aPz/ExsY6/HfBqcUAbD/NNG3aFBFad9e4WU9CnCm/1BgMBmRmZiImJgZardbuvyspMAGwnsBEREQgNta1m5QU+J0uAFD9oScwIBCxsQ1FKY/2z0IA1Ws6tQH+iImJcCqGNwvUWQDk17mc68e97aReCeeUba49zMQ0bIjYhhXNZOoZdABKbS7r7++P2NgGLm3PXn4J+QBqJmgxMQ0RW9/fK2WQCnuvpyVGAUCe3ett0rgxmoYos8bNEbJK3ARBwEsvvYQff/wRDz/8MObNm2f33zpSDemIit51LjwBqFROlU2jKav1+4CAQAQGeOdVqaf2rRi0Wq1Dv0ertf2qxs/PTxH7Rm2ldbVGoxbtt6nVNXsbatTqqhuEozG8WaBgX828J3+/Eo4bT6mIb0Utm59/7bFSO3l9dYatTgj+N5TX19R1LhrUjtVEBgQEIDBQVmmLR8imc4LFYsE///lPLF++HA8++CAWLVoEtVr84iuv0pYc4Qvxl9pv9IXG3hw7zzb20iRfJ37mYweLxYIXX3wRK1aswAMPPIDFixcrpieps9fnOgfgdW61RHaR2r1TaeO4Hc/mGJBKoZLc2SIdjp5rUjg3pUDyiVtlTduKFSswduxYfPPNN5JK2vhgTEontWNcYsXxiOf32t/ux9fILQ3itE7kbpJ/WTx79mysXLkSoaGhaNOmDebMmVNjmREjRqBr164ilE66+KrFO3x1L4v5usraoS23m3ldLhWbcanIhJbhkr9EE5GXSf6qkJqaCgAoKSnB3LlzrS4TFxcnWuLGpylSOjkc4a4mkoIgwCQA/mrppIC5egtail0ICZJOhMhVnPLKOZJP3BYtWoRFixaJXQyPcbqNG49gSfCFmk1Pzw1qr33pejwen4tCg3v3+f+dK8WrhwoAAAEa4MAYcYY5IXljWzbyFsm3cZM6sW7b7JxAvsYsCDaTNmdvmfvS9VVJGwDozUDPdVlOrs29mAZYJ9VepXz7Qt7CxE1kzp7sFh+o6SFpkEqbMk9s87NTNceEIyKSMiZuTjqTb8TQTdnILBcngbIyfWQ1TOu8w1f3s9RqPZx9TbXrut7NJSFPk+orSamWS8ocHg7EVy+4N2Hi5qQSowWHs1ybzBpw/sbP45e8RTqvgGzfGKWWSBIReQoTNyeJ/XRVZ42bVO61Cuer+1mUV6U+lpz52M+1m68dB/awCAL+yDPieql907VJhS907vIEyfcqVTpnj1vHZngjcp4crq28l5NUefr8ySgz4/5tOThbYAIAjG8TjAV9IqGR0NA27iKDS5FXsMbNSaI/9cnhbkrKJcIJIPYpR9LA46C6fx8trEraAGDVxTKsuVQuYonsx7uYc5i4OcldFw9nD1x2TiBvkcOxJPqDFJENnj4211pJ0t45VujZjZKo+KpUpviqVHlydWb8elmHHJ0Zw+KC0Lmev9hFsolt3Egs7j4MrpaYsP6KDkazgLEtg9AizL23RTFejmSVy+MOIYeHQili4uYksWvc6roY8E2qvOTozBi2OQcXCiteecw5WYxVg6MxqGmgyCWTzsWVeRsB7k3gzxcYMWJLDrJ1FYnOZ6eLsWlYA3SR8EMTEV+VypQ8nqeUz11JzZqU8qqkDQAMFuDTk9IdHFZqSZTUykOek6Nz39Xvm7OlVUkbABQZBCxMku55pzSsYHAOEzcnueupz+lepWzjpihvHanZJuVgpuvjBLqDVC6uTM4IAB76LRdn841uWdd/z5XW+Gx1snMN+/kqn7yFiZuTxD5HOeWVNHg6DCO3ZOP7P2veXMQmxk2qtm3ypulb5kqwNpqXZM/jPq7AxE1knpo5gce3MuzPMOBysanuBT1IDseS3PI2ewYeZTJqm7WelCQ/cri2SBETN5mq61UpKYcUb+BKmWSeyF2keJ6SMrFXqZPEbuPmySpjs0XA//1ZioOZBnSI9MPzHUMRoWWOb4038mdv3w8sgoDUEjNiQzTQqFWyeCqW2z1TDvuUyNP46tM5TNxkqs5XpS6cEK8dKsB358uq/r01TYetIxo4v0JyiTfnxT2SqceTu/KQWW5BpFaFJQPq2SiT98ktOasNb1hEjuNpU4GJm5PEHsfNU50TigwWLL9QVu2zhBwjErKl0cNRarxyIfFSxmKyCBi/Mw95+orhEQoMAh6Pz0WQRhopU+2dE6RRRndS3i8iqo6JmHOYuMmUp4YD+e2qDiYrfzwrUXq9uMi94q/pq5K2SnozoDfXPCCklidJrDh14g2LiJzFhktOctcTvuDkJdxTF35rSRsAGNkbQjTeSkqSHBgbS5xXpXJLz0jK7OnZS57laAQYsgpM3Jwk9i2kzho3HuFeUdtudtcxIrXaLbEoaRw3np3i81YMGGtyN74qFZmnZk6QO4NZwPFsA8rNAu6M0SLYT37PGO4KkRRzErklSkQ347Ot+BgD5zBxc5Kn71vXSs24UGhEjwZahPnXTFqUfLwXGiwYtz0Hx7MrXt01D9Vgw7D6iAv1zcPVWzmS1HOx2son9bLfjDcs8XG+Z5Ir+VVjSITbxnGz8tnHJ4rQ6ccMjN2Wi1tWZ2Bfur7GMnX1KnV6RgYJ3FD+d660KmkDgCslZnwi0c4RzrZRdIS3arcc+SVsb0ZyUNsxLYVrna9zuI2boqss7MfETWLO5Bsx+4YkpcwkYPK+/Bpt1goN3j2AvXmbfj+hqMZnNw9R4kuYIlVQVI2b2AUgxoBkyzffPbmBp8Zx++J0zZqlq6Vm/JFvQud6/gAqZja4Wmp2aL1K90eeEUvPl0Kl+js2KhUwsX0oWoZ77jD31ad2UXqVKqhzAnnH2QITrpaY0MxKMwtfPXdJ/pi4OclTN4obXxHeKFdnBlCRuJ3Ks3/YBl9xqdiExWdLa3w+PC7Io4mbNzAn8QxPDWJtDyYN3jPtUAF+vLd+jc8ZAvE5OvoBY1aBr0rF5sSROP90Sd2r9YEj3CIIVTdfWz9X6kmPziTgmd15tS4jxVkBxCiSu1+VZpazebov2H5VbzVB8FZ7KR+4FJOXybsqQkRi3krNHszK5HCREQQBH50oxv/OlcICAY+3DUHPBlqry3o6TrXtL3u2/cHvRVh3qbzWZaSXtimDmE+t9pxncjgX5cJgAQI01T/zhYdbqWMInMPETWT2Hrg3LmfPjdzdJ4SUkodlF8ow5+TfbQG/TCrBnTE2EjcRC25PDBb+UXftqQQr3CR1PADOlUeGQwOSk3RmAQE3zbnLpIHkipcuJ0ntxuUucphx4eMTNXudHso0WF1WzBo3d+E4bhXc3TlBLWJGbM9rOhmcirJhbb5dr82cwDjaxCmvnMMaNye5bRy3mw7EutZrtgj49YrOPRt3gJTaWaWXyaNtknT2WHXXSs14dndetWNNBcDgwHQcEjocnCb1hxRpl05eyq1Mwizx8JMVH/xehP+7ux781Aq4ALmAiZtM5Oks2J+hR4lRHkmLVIh5ekt1yiudScDhrJo1lM1CNFaWlg5FjeNmx8HBvMJ9RK1x89J25MjR5HnDFR3eOlKIuXdGeqQ8csHEzUmeGsfNlmf25Ltpi77F0zVD3nhqd/dvcEdvOnHGcXPvVsW8ofJm7l06a4mbm4Ng6/D0ZKylXmvsCf89V4rZvSOg8eFaN7Zxc5LUp/zxwfPZKjHj5K4tu/sX2Bw6RdqHdO2cKLzUTxGew+6jr328crewJ16ZZWYU6N331kTuh4iz5S80+PabJ9a4iUzuJ57UebzGzcnvHOH2xM1GwRzZjig1bk5+Z4uYiZF9w4Hw6uAuVmvcvLRtQQBKjBY8GZ+H+Ot6qFXA422DMe/OSJdrjXw1uZdSm2sxsMbNSVI/bpyeZN6tpRCfxMNkH7e/KrXOWjsgJZP6r/XVm7InWEvctqW5t5NXba9KZ/5ehPjregCARQCWni/z6fmXXaWI67oLmLiJTC4XZ7meKGKWW26vSh2aSUABMyeIWuMmk/NeKawlbl/ZMYaiuyw6U3M6vneOF7q8Xh5GvkkWidsPP/yAV155BXfffTcaNmyIyMhIrFixQtQyyTWRqYvSLgRivipVMqlNMq9EvnpseYK12mRvzflsK0kvMrgeYbkfI84+wIg5z7AUyKKN24cffoi0tDRER0cjJiYGaWlpYhfJfeO43XTqua23qpd6TEmdmMVef0WHWyL9cXeTAIRrnX9GcntvSgVe85zZRVLvVarAMInGWo2b93hwikIfPUh89GdXkUWN25dffolTp04hOTkZzzzzjNjFkZ08nRmT9ubh1jUZeHxnLi4Xm6q+O1dgxKM7cnHrmgy8uD8fxTaeAnf/1T6D7JeUZ8STu/Iw4NcsXCt1vlubt16VOkIRnROcLYiX+OpN2V6ODIXha+03lc6BscIVSRY1bnfffbfYRfAYnRnotz4LvRtq8Z/bwnG+0FT3H9nhxpq8R3fk4Wh2xYCrl4rNSMw1ImFcDPRmAaO25CBbZ/nrO+U1lpXCOG6Xis346o8SzLw9wqlteKtXqdS5fTw7tnGTNUd2obWZE+pyudiEj04U4Vy+CX0bV1yfg52Y4Naj47h5cN3e4Gz5mbiRU9x5DzmdZ8TpPCP+e65mA1ZXXSw0ViVtla6WmrHrug6FBqEqaSPPWuhK4ualXqWOkFp3fEXWuIldAIlzJPm9+UZfVxupUqMFI7fk4OpfNeWn8oy4VGTGqsHRjhbTo0m6rz4A+Ppdy2cSN53OvV2/9d4Y0dEFOr0BOp0ZW6+UW/3++3PFuFbqnsPfXfu2wGCBsZbd6sx2jAYDdHYkpwaDodp/7aU32N/A2dn9ZDIZ3Xr86vWu1+qazWa3n1N1MdRSbovF4nAMdTrXzmFXfr/OjgFE9QYDdDofvTPboUyng9Fo3/lnMJqqxauuNm/bLhdXJW2VtqTpcLWgDPUDrde62Xp1W9vx6Oo5VFtNorfPzxvZey7qnLyPlut00KmlPUWfowIDA+1e1mcSt+vXr8Nsdl+ylaFTAQhy2/rcLT09HQGFAgry/QBoa3y/5ar7elS5q7PIC6cDkFBo+2T8ezvBdq8zMyMDESX23/wyMzPtXhYAsgvUAOw74azvp7p/S2F+AdLSchwqV23SS1w/dstKS5GW5t1p2DLKbJe7vLwMmZkFAOyPYYbetf3gynFfZALqin1WZhbS3DjKfl0KjIBWDQR7/H5o//lbm7S0q8jL0wAIqHPZgsLq51BJHfv/08RCADV3xKazGRhY3/p9xGwKhLVm41nZ2bB1jXD12lnx7GH9d0ihE19d52J6uXPn4LVr6TAHKuehRqPRoFWrVnYv7zOJW5MmTdy6PlWpGUCBW9fpTo0aN0ZsuAaR5eUAPNt2LTY21i3rCTxfCMB2rcrf28m1e52NGzVCbFTdh7nBYEBmZiZiYmKg1dZMdG25ojUCKLJrWev7qe7fEhkVidhY9z0kFOSZALg2hlRISAhiY2PcUyA76Ypsn3PBwcGIiYlyKIaunsOuHPf5eguA2hPf+g0bIjbG3+lt2KvUKGDigWLEpxvhrwaeahOIGbcFQ+2x1+H2n7+1adqsGaJNegB1NzGJiKh+DlU0EbG9/7UBAZXZXTXR9aMRG2s9UfQ7kQ9YSbTrN2gAoNjq37h67SwzCQDyPLJuV9h7PTXUck7XJqZxY8SGKqvGzRE+k7g5Ug1pjwCTezoReEqAVovAQH/4+3m+nO7atxpNCWpL3JzZTkBAAAID7b/5abVah7bj72//zc3Z/aT193fr8euvdex1sDU/X9FjQf9o+HtxoudAve1aYo1aXXWDsDeGWhfPYVdiEqiquyat4nfUXZvkqncSCxCfXrFvjRbgv+d16BEThPFtpPtGAQACAgLh529fjaTGz69avNR1vH2xlbT6+9dybNXyN7a4el6bjbZ/v7vvec6o61wMqOWcrnW9AQEIDPSZ9KUGWQwHIkXSapqtDJ7YpxJrQ+8UKf4EgwV4eleeQ0MyeJJT47iJ2qu07o17q3xLztassfogwfVR/T3N4kD3jZv3pTcHcPXkGHLSOPucx16lzvHdlFXh5HhceyLJctcqD2fqcb3UDAsqbgICgGA/FcIcqHFzVl375XyBEfdvy61aTq2q+N0zekVgTAvP1ZpsTNXhj3wTOtfz/Os8QJrj2XmWeCW8Xib9fnuO5F43L+qJPWvr+Hw83vqrTHIeZ04gp0htOAQlkHKN2xdJJdicWr2XVmyoBgv6RLpnA7VQ1bFn9BbgWlnNVz8lNl6jXHDTWIEAMO9UMb69u57b1mdLqdGClw8W2Py+rn1kzbceGH7HXpw5wXWO7J+bazjruu/L5fIu92PE+Smv3FsOuZFF4rZ06VIcOnQIAHDmzBkAwLJly7B//34AwIgRIzBy5Eivlknq57Ucj2uPJG4eXI+3Hvrq+g22XrvZ+rv5Se6bXDvPS70ep+4vwIEM223znIlzZrl4Q/rI8fyUGocSNxf+1hssgoBTuUZk6yy4M0aLUH/7WjH5asWT9OuDPUsWiduhQ4ewatWqap8dPnwYhw8fBgDExcV5PXGTC2+c19nlZjQIcr2Hj5Rfldpqg++N/VvXfrFVBlu1wklunFzbG7+/1GjBL5etj0foCnccG2aLgFN5RgRoVOgQ6efWmnhrN2WTRcCJHCMitCq0jXDv9uTGkVqXm5eVUsJjMAt4alcetqRV1OjXD1Rjw9D66BBlvQmCRRDwZVIJtqTqvNJUw5PYxs05skjcFi1ahEWLFoldjGqkfr305oVp9NYc7B/TEBoXexhKeZdaK5tU2lnYKoY3Onx6YxekltRdMybG+ZijM2PM1hz8kV/x6nlA4wCsGlzPrmmR7NlvNy9ytcSE0VtzkFJcsT9GxAXi/+6uB61GymeO53iyjZs3T+1fLpdXJW0AkKOz4N9HC7HuvvpWl//w9yJ8dsp9teZy5OuJG3uVOknql0pvzql8tsCEY9muDzHhiUTDXTd0a+vx1i6u81Wpk39Hrvn4RHFV0gYAe9L1VntoOuvmuL57vKgqaQOATak6rE5W3vzCnlAjcZPQjf/NIwU1Pou/rre6rCAI+OaMeG0z3c35GjcJBVAETNwUyvTXI4m3bt7uuGFJu41bzTUJgnM3AJNFgM4kwGBndl3nq1Ibq/FG7KVy+RQjSbXWueHd4/YNxuzMflt7qebr4jcOFzixJmVwrHPCzX9b+197swY3X2//L9GbgZJaprnyFb5e4yaLV6VSJPXajFrGZZQuD1wtneltaH09NTl77Vh5sQwvHShwoTT2lcMbNx85j+Mm9XPYnl3r4nSrsuZIrcvNS3rixu+N42lrmnjzj0qJNK464mGNm0IZZfhIUteFz+zEb3JX8mLtNa4A5y4gjuY6zr4q9cbJ7Y2j7Lwdw5fI7ULmTBs3qs6h/XPTwom57uug4y05OjP+sduxMeGcuWZ6E4cDcQ5r3Jwk9c4Jcqxxq2uXxq5Ix73NHJsCyG2vSq2syNmLh6N/V9exZqvmwSs1bp5ev1DR465OztS4SfwklkhlpmQ51jmh+sKLz8ivcf/y8461Z+y7PgvnC4y4IyYAX/eLQpMQ5czt6euJm9weVCVD2pd8wCTDq35d99Eyk4D1lx17VeC2zglWPnN2F7s7MrbbuHn+KPX0YXYky75OL3K7kMnh7Oy+JgO3rcnAgiTrE6SLzZVx3BJynKtxE/Oyuv2qY9e+pDwjDBZgb7oe43fmeqhU9lt/uRz91meh/ep0vH64AEZLXS0NbXP+L5WBNW4KpcRXpWKy1cbNmb3saI8op3uVSnmH2sneG6ytScHlTOwz+PJfPVj/c6wI9QM1eLRNsEvrM5gFHHVD7/NKjlzi3N08QQyuHA8nc424WGhEmwjvTE93s4RsA57enVcVsyVnS+GnAp5oF+LU+mR4e3MrJm5Okvp9QomvSkVdp9U2bo5dPcZuy4FFqHgCdnHT1di6iPlUr1KZdU6wb8orqexd4PPTxS4lbkUGCx7cnite4ua2rcrXyVxxEjezRcDU/fk14rXoTCkeb8vEzRlM3Jwk8bytajgQOR3fHpk5wV2dE6x85uhwILttjM1Ul7raYim5xs1ecntVag8ptXY4V+Da/LbLLpS5NWkDHGsOIqV9aS9BEKrO/XKTgEOZru0/sXZBuVlw+fi5mQzrJdxKidc7Amvc3M1a8uStXSzlAXhrjI8lCPizwIgCL81hWskbs0S4k6O9Spee98ygq1dL3HtDteXfRwvdvk6HprxycN3OJDlX7JjhwxE3/r5nHOxNKiW1nZuc8so5rHFzktTvE3Js4+aJdkqenGTeW4+wzg7A6+1k5nKxCeO25yC5yAy1CpjWNQz/vjXMK703ndmCnGokE9xcWwUABXoLRmzJcft6vcXsQDbm6Ro3T4xnWLnG7HJztSmxnF6fSLcEtQfullIZP1IsrHFzktSHEjCxxs2t67Q15ZU3Lh9yaeP28oECJBdV1DpYBGDuyWLsy3B/wmHNjUm/2SKg0FD3CSDmGfybHT0Eb7w3eeI4i7+mc3stkTeZXRiA15VtWksarpa6fz9WntfuSNoA8V6V1nardGUQc1/GxE2hZFjh5qE2brWv1GC2fiGusR4rn0nnoU/Ecdz+2rTRImCPlU4XnyTaNwWULfb+hMraxZ/S/dDp53y0WJGOUVuykSfRqQWWWJku62a/5/yd9HrifJ52qMD9K/UiR2Z+crSjh63j7tk9+ciz0gygxOi5Gjeprs9enqj5/zG55vRvvoSJm5OkXd8mr04JlbxZ41ZmsuDZ3XmIW3Ed7X/IwP9dqP2p1tbMCd5QuWm9WcAvl8ox92Qxjt0wvpntNm5eGMftr63bejW/30s1bipUDB3ySbIWBYaKUu3LMOBFN04t5k5JeXUPc/J/f1bUKgiC4JHEzc6pciXLkfI7+pBVW2N6a7Hw98Cd1N0xF+9VqW2+/srTWWzjplCVY4VJPcG8kTd7lf77aGHVpN26cgvePl6KyM5qxMbaWI+VzywO9ip1lkpV0Uv4ifhcbL9aUav1IYDP7ozEM+1DRG3jJpXLrkoFfHW2ZvK9KVUHiyDIcpy3PL0F/ddnIaXIxInFrXBkOidH915xLTVo1jbriSS44vHDfcdtZREFQcCBTAOS8ozo3VCL+oFq7LiqR3SgGoOaBiDERhZ6KteAQ5kG3BLph/6NA+w+p2pbbMc153rae9rTu/KQkGNAsdGCfH3FnusY6YeD98eIXLIKTNwUSpavSr24zsrajButuOaP+7vYvx5vjbOlAnAo01CVtFWa+XsR/nFLsM0ec9aTTfeWuXJ1nkpg7V2tCsCmq9Zr98yC9SRWDqncKTtq5nyVJwfgrXW71j7zROLm9hq3ihW+caQQS85af1V/a31//DykPiIDqidv354rwWuH/u4ZPKFtMBb0ibSrrXdtS8xIcK0phadklJuRelP7zzMFJhzPNqBnA61IpfobX5U6SeoP8DLsmyB654T9+bbn8hO7c8LHJ2pe4HL1FpzKNdqe8sqN86vWJqPMjGf35Lt/xQ6odcgBB/YPyYdD47i5cbsZZWZsuFKOi4XGqmTIE+eVJ67hl4pMNpM2ADiRY8S6S9XbjxnMAt49Vv36s+JCGc7k2zeUjNQ78llj63oyy8p1WAxM3BRKjjVunsjc3DdXac0Veat5xqViMy4XW79I6s226/2s/XR3v9IxC8CYrTnY6qaebzezv3OC7SVleS54gbuO3+RCE57fm4dBG7IwI6EQBi81nnOojZsbt3vPhmw8EZ+HnuuyMPNEcUUbRDeuv5Lba9wAfHWmpM7lbu60cihTb/VV/WenpDmHrTvYSoyk8mqXr0qdJPVniJQiEy4WGpHr5YFQHbX+cjl+Si6DWgX8esX9N393xcnaE5i3EoIPfi9CiJ/1X6JSOTaOmyNDKNgjMVcar/Jqi7PFzW2F6G8VY8FlI6O84jqTkGPE1VIzvulfz+Pbdig/9NC5OvdkMca3DsaPye4fnqLy+uKuI1cAcNWJ4V9stfe7UOidwZu9wWwRcDLXiBydBT0b+Eu+TSwTNydJPK7477lS/NeOIQfEdr7AiI2pnqmtscWZnky2J5n3TvZWaqNxugoqWGw873ujxk0qantVyho3z/ntqq4qaav0Y3I55t1psdnI3V0cGoDXc8XAnJNFWC2D4SmcfWYL1Fg/ufQSuJjozQJSS0xoHe7ndLJ1udiE7msy7V6+0GBBuL9K1FfAfFVKovJ0feDN51ahwYJCgxMXHKu1V8BLEhhuwvYFuWahHbnZyYkziZvEn71k4X0bjctPe6FThSMdbTyZYngqaXN3R6IXDxTA4MRTTICNxE0ncuL2Q3IZWq5MR691WejwQwYSc5wbeug1B8czbL4iXfRe3kzcnMSLvuuulZrx8QnPtpO4cQy0Z3fnodXKdLRYme70em6WVS5uJnQ4S+/QJPPiPyN7Rq2vSpX6o13kyd3ijeujI/dOdydB3iDc9F932OlEGy1bFadi1rgJAF7Ym4+yvw6CzHILHo/Pc+ptijP7xEYu6zVM3Eg0k/Z6fuLkyvNr3qlirL1U7vSrQqlOYv7r5XJR27hJhTMTWUs0pG4hCAK2pJbjg4RCrL9c7tCYZ3Lh0JRXMvz5UimyrUNneFyQdwtyk5uLdbXUbFeb2xvPBWcHANaI3FaKbdycpOSLvidVDv64+5reK6PqV7ZDmJXoWs2eVOPtp1Y5NI6b3F6V2rvfa2tvIsfaFle9c6wIC/74uwfhI62DsNgDHQbE3LVSaePmKVLJtW3VbA5qGmDX39uaVcUTLhWZcGt96+OsJWQb8MrBApwrMKJnAy0W9YtCsxDbQ0DVhjVuMiX1zglSNSuxGCO35GCul7qSe3KSeSnwV6tsj1Nm5TMJtCf2CKm9Kr1SbMID23IQt+I6Rm3JxsVC7/W+LdBbagz78ENyOS4VVe8F6I7d4q3OOdaINRyIt1Se12Jfemw9+PjZ8RrCbKloouIttjoolBgtuH97Dk7nGWG0VAxo/vBvubJ9A8MaN/KIfx0qwMEMPdRqFTSqiieUCK0ae61MRC4H3pj30xk5OjM2pVpvHK1SVVx0T+QYcaXYhLsaBSi29smpzgkeCqlFEHD/thykFFcMvbAvw4DRW3Nw6qFGdt3sXPVTSpnV37z4bAlm9Y70+PYB7zzomAXB7ho/OR72Uqkct5Xc2FPrdCLP5JFhnmz5x+48jEgJxPKB9arVwv96uRxFN3VKO19owgknOzSIPVwIEzcnSfVGLhX7M/S1TtTsLe4bgFeazuSbbI5gLgjAE/F52PTXcCuBGuCTOyK9WDrvqTVx814xAADHsgxVSVul62UW7E3XY2DTQI9v/+YbVKU8D4zpKGY+5GiNW5HBgveOF+FwljweHqWSbNp6JW1P4vbLFc83h7nZplQd/nOsCDNvj6j6bP1l6w+3R7IcL5/YtW0AEzenSSB2kqUzCZJI2gDPDsArBfc2DcBvNnpF/e/P0qqkDQB0ZuCVgwVeKpl3SelV6W9Xrcdj/eVyryRunu6Mka+34OMTRTiZa0R6ma0xBD1/wjiSuBksAh6Pz5NVjb9UasdtdQIpNQlIzDFAo1bBTwX4qQE/lQoxweqqNlj/Pe/dMTorLfyjBI+2CYZGBXSI9LP5BO/Mq1Ip3AqYuJHb7U4X52S1Ruk1biObB9lM3Nak1HzKlEqDZ3erfcor24MXe4Ktdl/eOoZs9ZS7efvO5AXCX6+B6+q955VXpRb7W9j9KNEBcn+qZcYFqZyqtpKb33MMeDy+5hRaa4dEo090xYOimPqtzwIA3BWjtXk8mpy4IErhXsDEzUlSbawuBV8m1T0fntxINd5asbs3SYQzNW6eiqnYN1xPbn/bVZ1dQy54o7JIZwa+tmPuTSmbsj/f5ndiH0eVbCVutmJcOTvflXJpXJsOZtp+HepUjZsEfhYTNydJIHZkB3fESWcSJDsvnzNPjErkzDhu3ib2Bd/VKXp6rcu0+zy4sZbz50vun8cTqDkZuhwZa2l2KIVTu9BgweenrY8AYKt4GrWqlm+lZa2VtxJywMSN3E4iTTMAuCdxu1BkqtZWTEqUOryHo+QwV6ncOzQ58vBy43G5+7p82pXR33QmAaO35uCkHTWsN/KT0WF+scjxB3Ip/DyO4+YksZ+eyT6OxqnUWPMun6eTSsf8mpQ6E4Kjan9V6t19JHZI7O2c4Mkx2G5M3GqrVSLbxH7g2JOurzVps/mqVKo9udxECvd+Jm6kaI7Wcvw7obTGZwUG6d55UopEbgEsEbVdTG3dADfbGP/OVT/U0uAccH6aHXvZWv3Ki2VIL/PO8XLjPv8pxTOvSpVO7AeAmb8X1fp9so3aKjnVuDlDCj+PiZuTpBA8qZJSHZCjcVp9qeZrnUwv3eycsfAPeTfOrou9T7crLthODqyl3RllZptDWbjquo31ZuvM+DG5zOZwIc46nFl9fbWdfxdveN3pyV5/N9ZyssbNORaRr6QZ5bUfIBttNB+prHCT0n3AnaTQ5IFt3JwkfujIHhWvEl2LlrdqKagme2sdahs30FqNmxgx3XBFhw0eGEV+6OYcnHm4EZr8Ne9ibbvMW/NGVr4qLfDAoL++QswaN6NFcPpV7ePxedBAgFawby5Tchxr3EjRmi5Px1EHR0q/uadmLm8+ovkiyfU5ba3dgMpszZwtUz/bGBn+ZrNOFGPQhiw8EZ/r0fJU7nOD2A21ZKxyz4nRpmrM1hwUOdlEJLXEjEslFvxZqsz0gm3cHPD777/joYceQvPmzdGkSRMMHDgQP/30k2jlkULwpGTtpXIkOjnvm6cN2ZTj0PKFN1ywBEG6Q4Eozek8I17Ym4cHtuXgf+dKYbQIbnmdaa1zgk5h3XE/Saxoj5RaYsLhWsatOpptQEKO0SM1fzeqfNgxKGw/e1NlzitGzdvBTAMk3LRXVFK49cviVem+ffswbtw4aLVaPPDAAwgPD8eGDRswceJEpKam4rXXXvN6maQQPKm5e0M21t9XX/YX6xUXyvBSlzDozQJeOpCPQ7XcCMk9LhebMGJLdtU8m/HX9fj+fM2OIs4wWbkBlSusxs1kAZ7bk2d1tgwxTN6Xj0KDBYOb8nWZs4Sb/kvSIIV7v+Rr3EwmE1566SWoVCps2rQJX3zxBT788EPs378fHTp0wMcff4zk5GSxi0l/GbMtBwk5jo37IzXTj1fUXqy/XI4fJDpVjpx8mFAEcx2vzNZdKq8xObqj40fZ8qqVgVqVVuNWahIkk7RVeutIIWurXVB5yvBts7RI4W2b5BO3vXv34tKlS3jwwQfRrVu3qs/DwsLw+uuvw2QyYcWKFV4vl6ujkJO0JeUZ8fxe29PRkP3mnirGPRuykasz43qpGWaLgKslJsxOLMJLB/KxObUcMxJqH3rAFSdzjfgjz4i0ElPV/y45MfAmOe6FfTyHnPXe8UIkZBvwysECsYtCNwiWwHgnkn9Vun//fgDAwIEDa3xX+dmBAwe8WiZSvr5/TVBM7nEqz4ix23KRr7dg3ZBo3P7z3/t36XnPj/PVh/EURaGB1UXO2nFNjx3XsqFVg+3NJCREAomb5GvcKl+Dtm7dusZ3kZGRiI6OFu1VaeNgye8+Isk4nVfx6vPmKZDujNGKURwiWfj+nnpiF4FuEOwv/n1f8jVuRUUVr1DCw8Otfh8WFobr16/XuR6dzv29qLYPiUCXX/gqgGp6tl0gvj0vzflNxdK9ngbZOgFDG6txy+BwPLe/GEYLROn8EalVwU8F5OhZI0TS9mFCodhFoBs0DvRMPhEYGGj3spJP3Nzl+vXrMJvdP+jmKy398Pkl8WoMwjQC2odacKxQI1oZqLrHmhjxQsMyTGoA3H4gWOziuE2QWkC5xfnXBNEqPdLNahxNSce0MwEoMqnQOcyM28MFFJlUOFzgvWM4RG3G4PpmfH/V32vbdFbLIAsulYv/lC8lg+ubsCPHN25ffxRwAHApuSO4BGlp7k2mNRoNWrVqZffykj/yK2vaKmveblZcXGyzNu5GTZo0cWu5Kk2LMeCe6Cy8fSEEZwpdb4jw1Z2heKBFANZe1uO7CzpcLjEjW2e9VkCtAmb2CkPHSA1G/lbo0SlspGpqh0AsPCuNmq1bIjQYEavFtE71qiZaTm4ioPVPebX+3dg4LaZ1DkL/zbVfDP7XNxTBfipcLDJjRmKZ19q93BKhwdd3haJ9hAb/OlaKFcmOT9mkVQPBwcHwKzfh9lbRGJBfig1pBiQVa9C7cSAGNPLH4b01B9t9rFUAVqa4d4ooAPDz80Nc/VDgqmfa120dEoGh2x27uM/rHYKTeSZ8d+Hv3xuoAT7uHYFVKXqsT7VdM/lUmwB8f9H9+8kVDQJVaBeuwYEs1zuC3NnQD//XLwxHskyICVKjaz0NYn/Ig8I6B9dpcvtATOkQhKPZRjy73/vT3cUEqZBZ/vdOH9jYH/Hp8h5FwBF3NvTDP7rXQ4i/uO3cVAUFBZI+9GfMmIHPPvsM3377LcaNG1ftu4KCArRo0QK9e/fGtm3bRCmfTqdDWloaYmNjca5EjUVnSnC52IxcnQXhWhWmdApF+0h/rLpYhoV/lCA2VIPJHUMhAMguN6NnAy3UKkBvFtC/cQCiA2vWOhQZLNibrodGBfRtHICLhSaczTfijpgAtAqvyL1zdWbEX9PjXIEReXoLrhSbobcIuDVaizCtCkl5RgT5qTCoaSCOZxmw5NzfY2SNaxmEiR1C8GeBCZtTy3G52AyDRcCrXcNQqLfgeI4BbcL9cL3MgrhQDdSqip56+9P1GBYXiMOZBkQGqFFssECtUmFsyyDUC1CjU5QfzuSb8J9jhTALwLDYQPRqqMXBDD1O5BgxukUg3u0RgYQcA0qMAspNAn69Uo7YEA0mdQzFgQw9Vlwog0oF1AuoqHHoFu2Pg5kGxIZoMKVTKDpE+aPQYMHhTAPSy8zwUwNatQopRSZ8kVSCYbGBiA5UIynPiH6NA/B7tgGNgjXI0lnQMFCN2+prERWgxqbLpcgqKoVfYBDaRGjRPKxiv14tNWFrqg7NQv3Qp5EWyYUmnMw1YkzLICw7X4p7mwXiX93CEBdq+xnIYBbwy+VyvHu8ECoAE9qG4M4YLcpMAuoFqHFXo4qxrgr0FuxJ1yMpz4imIRo0C9HgaqkZsaEa9G8cAH/13xeLi4VG/JFvQoifCqUmAVo1cG+zQPxZYMKFQhPUKuDrMyUI1KgwtXMo7ozR4mqJGb9e0WFfuh6Bfio81CoIo5sHQatRVR1Dn50qQb7eAv1fd8QXO4eie/3qNcqpJSbsTdfjZK4RyYUm9G0cgNUXy3D+pqEfwv1VMAvAK11C0THKH35qFTLLzRjXMgh6s4Ad1/QoNlrQLsIfsaEabErV4VSuAbk6C55oF4IigwWtw/1wNMuAIqMFFgFoGlKxL26J9Ed6mRm/XdVhTUo59qbrUU+rQusgE4a0CENEoD8CNBX7xppwrQqdovxxKNOAPL0FZouAKyVmFOgtiA3V4EKhCR2i/NEt2h99YgJwrcyM+aeLsee6Hnc3CUC7yIp4B2oqZi7UqFVVx934NsHo1UCLny+Xw2gRsOlKOVqF+yE21A/+6orfEOqvxrEsA7J1ZuhMAqZ2DkXbCH8IgoATOUYczzYg1F+FAU0C0TREg0OZeuy5rke7CD8cyTLgVJ4RhzIN6Bbtj9HNg/DULcHYcFmH/RkV14BgPxWeaBeC7HIL0svMGNQ0AEezDNh5TY/7YgMR9df5lJhjQLCfCnc1CsCOqzqE+KsQHahBuUlAj/r+uFhkQrFRQIifCi3D/bAwqQTpZWZMaBuM6EA11qaUIzHXiHCtCv0aBaB5mAZJeSbcEuGH+1sGwQLAbAGWXSjFnut63N8yCA2DNDicqUeARoUHWwUhV1dRxrYR/mgZpsH/nS1GRmEp6oUFo9ikwuROobi7SQDUN/XkX3K2BLdE+uNwph7NQjTo2UCLH5PLkVxkwmvdwtAxyg87r+kxdX8+VACahGjQPNQPAxoH4GqpCWtSypFZbkarMD+MaB6EFmEa/JRSjqNZBtxa3x+9/ro2d4ryx12NArD7uh7vHS9EZrkFnev546FWQSgxCtifoUdUgBrb0nR4vkMI3uxeUZGw+GwJPj5R8TBSeS73bOCPFzuH4XSeEV//UYI+jQPwz06huOOv8/NAph7rL5UjKlCNp9qF4Ey+EffFBuLNw4UYFheIJ9uFVP3+Ar0FO6/pcK7AhPqBagT5qRChVaN7tD+++7MUv14przqmSkwCRsYF4b7YQJzOM+L7P0vRKtwPx7MNSMw14q4YLZqFaLDmUnm14UemdgpF2wg/NAvRoG+jAAT6qfB7tgFnC4wI1Khwa30tjmcbMKBxAJacK8UXp4thsFSMddY+1IzGYYF449YIZJZbUKC34GqpGauTKx6WxrUMQla5BTuu6ZBVbvnrfAJiQ/3QLsIPfxaYoLcIeLhVEJqH+aFLPX+klpjx+uECdIzyx5BmgcjTW7DyQin81CqklpjRJtwPb98ahk71/PHpyWL89NcQOVM7haJNuB9mJxYh469tdYyqOBa6RWtRP1CNNSllyNdbkFluQbCfCvfFBsJoATrX80NaiRntIvxwR0wAAjTid06QfOK2c+dOjBs3DhMmTMDChQurfbdu3To888wzmDZtGqZPny5K+W5M3Bx5R03SwjjKH2OoDIyj/DGGniX5hhMDBgxAixYtsGbNGpw6darq8+LiYsyZMwd+fn547LHHRCwhERERkXdIvo2bn58fvvjiC4wbNw7Dhw/HuHHjEBYWhg0bNuDKlSv4z3/+gzZt2ohdTCIiIiKPk3ziBgD9+/fH1q1b8fHHH+Pnn3+G0WhE+/bt8e9//xsPP/yw2MUjIiIi8gpZJG4A0KNHD6xZs0bsYhARERGJRvJt3IiIiIioAhM3IiIiIplg4kZEREQkE0zciIiIiGSCiRsRERGRTDBxIyIiIpIJJm5uoNHUnF+U5IdxlD/GUBkYR/ljDD1H8nOVEhEREVEF1rgRERERyQQTNyIiIiKZYOJGREREJBNM3IiIiIhkgokbERERkUwwcSMiIiKSCSZuRERERDLBxI2IiIhIJpi4EREREckEEzciIiIimWDiRkRERCQTfmIXQE6KioqQlpaGFi1aICQkpOrznTt3Yv/+/dBoNLj33nvRu3dvEUtJdSktLcX69euxd+9eJCcno7CwEBqNBtHR0bj11lsxbtw4dO/eXexikg3Z2dn47rvvkJ2djQEDBmDEiBEAgOPHj+O9997DyZMnodVq0b9/f7zzzjto1aqVyCUmaxhHZSgsLMT69euxf/9+pKSkoKioCAAQHh6OVq1aoW/fvhgzZgwiIiJELqlycJJ5O82bNw+zZs2C0WhEcHAwZs+ejQkTJuCtt97CN998A0Go2I0qlQpTp07FBx98IHKJyZotW7bg5ZdfRk5OTrWYVf7/yn+PGjUKX3zxBS82EpOVlYW7774bGRkZEAQBKpUKb7zxBkaPHo17770XZWVlaNSoEQoKCqDT6RAdHY3du3ejWbNmYhedbsA4KsOaNWvw+uuvo7CwsOoaqtFoAABmsxlAxfU0IiICc+bMwYMPPihaWZWEr0rtsGfPHsyYMQORkZEYMWIEwsLC8Oqrr+Knn37CN998g2effRYrVqzA3Llz0aRJEyxcuBDx8fFiF5tucuTIETzxxBPQ6XR44YUXMGvWLEyePBmhoaHo3LkzNm/ejAULFqB///749ddfMW7cOBiNRrGLTTdYuHAh0tPTMWnSJPz888+YNGkS5s+fj/fffx9NmjTBkSNHcPbsWVy7dg1vvvkmcnNzMW/ePLGLTTdhHOUvPj4eEydOREBAAN59913s3bsX165dQ05ODnJycnDt2jXs3bsX06dPh1arxfPPP4/du3eLXWxFYI2bHR555BEcPnwYR48eRUxMDPLy8nD77bfDYDDg6aefxvvvv1+1bGpqKnr16oWhQ4fi+++/F7HUdLOHHnoIR44cwd69e9GiRYuqzy9fvoz+/fvjueeew/Tp0wFU3Fj+85//4MMPP8TUqVNFKjHd7I477kBUVBS2bNlS9dnw4cNx+PBhrF27Fvfcc0+15YcMGYKsrCwkJiZ6uaRUG8ZR/kaOHImLFy9i7969aNiwYa3LZmRkYMCAAWjXrh02bNjgpRIqF2vc7HDmzBkMHz4cMTExAIB69eph2LBhKCkpwT/+8Y9qy8bFxeHee+9FQkKCCCWl2hw7dgyjR4+ulrQBQIsWLTBq1Cj8+OOPVZ9NnToV3bt3x08//eTlUlJtrl27hl69elX7rGfPngBQ4/PKz9LT071SNrIf4yh/J0+exNixY+tM2gCgUaNGuP/++3Hy5EkvlEz5mLjZISsrC02aNKn2WaNGjQBUJGo3a9myJbKzs71SNrKfTqez2WYtMjKyRsz69u2L5ORkbxSN7BQQEAC9Xl/ts8p/l5eX11hep9NVtbkh6WAc5e/mtsF1sVgsHiyNb2HiZoewsLCqnjKV1Go1BEGwejExmUzQarXeKh7ZqUWLFti7d2+Ni43FYsHevXvRuHHjap8LguDQhYk8r1WrVti5c2dVw2ez2Yz4+Hj4+/tj8+bN1ZY1GAzYsWNHjRpWEh/jKH9dunTBunXr7KoJvXbtGtatW4euXbt6oWTKx8TNDs2aNUNqamq1zyZMmGDzXf3Vq1ftqj4m73rggQeQlJSE5557DufPn4der8f58+fx/PPP448//sDIkSOrLZ+cnIymTZuKVFqy5oknnkBycjKGDRuGmTNnYtiwYUhOTsb06dPxzjvvYMmSJTh79iz27duHRx55BGlpaVXDTJB0MI7yN23aNOTk5KB///6YO3cuEhISUFBQAIvFAovFgoKCAiQkJGDOnDm4++67kZeXh2nTpoldbEVg5wQ7vPrqq/jll19w6dKlOpfV6/Xo0KEDBg0ahCVLlnihdGQvvV6P0aNH4+jRo1CpVFWfC4KA9u3bY9u2bQgPDwcAFBcXo2PHjnjkkUcwd+5csYpMNzGbzfjHP/6BjRs3Vn32/PPPY/bs2Xj11Vfx3XffVcVWEAR06NAB27dvR2hoqFhFJisYR2X48ccf8cYbb6CwsLDaNfVGgiAgPDwcc+bMwcMPP+zlEioTEzc7pKWlISUlBX369IGfX+1jFv/+++/49NNP8dRTT2HIkCFeKiHZS6/X45tvvsHmzZuRlZWF+vXrY/DgwVXDgpA8/P7777h8+TLat2+Pjh07Vn2+bNky/PbbbzAYDLjjjjvw3HPPMa4SxjjKX0FBAX755RccOHAAycnJ1Qbgbd26Nfr06YOxY8ciMjJS3IIqCBM3IiIiIplgGzciIiIimeBcpeSTSktLcfz4catV+z169OBrGSIikiQmbnaqbBt14MAB+Pn5YdCgQXj88cfh7+9fY9lFixbh66+/5mCDEpSdnY13330XP//8c9W4UTfOWQpUjDH1wAMP4L333kODBg1EKytZx3PR90yZMgU//PADcnNzxS4KOYkxdB8mbnbQ6/UYMWIEfv/996qb/ObNm7FkyRJ89913aNeuXbXlCwsLkZaWJkZRqRZZWVkYPHgw0tLScMstt+Cee+5B69atERYWBqCiJ2lycjJ27dqFlStXYt++fdixYweHdpEQnou+i2Mqyh9j6B5M3OywcOFCJCQkYOjQoZg2bRr8/f2xbNkyfPfddxg2bBjWrl2L7t27i11MqsOHH36Ia9euYcGCBZgwYUKtyy5fvhwvv/wyZs6cifnz53uphFQXnotE5OuYuNlh3bp1aNOmDZYvX141U0L37t0xbNgwPPPMM7j//vuxbt063HrrrSKXlGqzfft2jB49us6kDQAef/xx7NixA9u2bfNCychePBeVoVu3bg4tn5eX56GSkLMYQ/EwcbNDSkoKnnjiiRrTWw0ePBjr16/H/fffj/vvvx9r165Fjx49RCol1aWgoAAtW7a0e/mWLVti69atHiwROYrnojKkpqZCrVZbbZdojdFo9HCJyFGMoXg4HIgd/Pz8EBgYaPW7W2+9FevXr4dKpcIDDzyAo0ePerl0ZK9mzZph//79di+/f/9+NGvWzIMlIkfxXFSGxo0bo3379sjIyLDrfxxxX3oYQ/EwcbNDbGwszpw5Y/P7bt264eeff4ZKpcKDDz6I33//3YulI3s99NBDOHbsGJ5//nlcvXrV5nJXr17FxIkTkZCQgEceecSLJaS68FxUhm7dulXNF2wPW9MpkXgYQ/EwcbND7969sX///qrxvqzp3r07fvnlF2g0GuzYscOLpSN7vfrqqxg4cCB++ukndO3aFb1798b48eMxadIkTJo0CePHj0fv3r3RtWtXrFmzBgMHDsQrr7widrHpBjwXlaFr164wmUxISkqya3lBENgjUWIYQ/Fwyis7/Pbbb3j44Ycxffp0vPrqq7Uum5iYiLFjx6KoqIiNMSVIEASsWLECS5cuRUJCAiwWS7Xv1Wo1evTogaeeegrjx4+HWs1nGynhuagMly9fxsGDB9GnTx80b968zuXz8vJQUlKCuLg4L5SO7MEYioeJm530ej00Gk2dk8wDFY3gi4qKeIBKnF6vx6VLl6rNnNCyZUsEBASIXDKqDc9FIvJlTNyIiIiIZILvgVy0f/9+zJ49W+xikIsYR/ljDJWBcZQ/xtCzmLi5iAeoMjCO8scYKgPjKH+MoWcxcSMiIiKSCSZuRERERDLBxI2IiIhIJpi4uahLly549NFHxS4GuYhxlD/GUBkYR/ljDD2Lw4EQERERyQRr3NwkPz8fpaWlYheDiEgRNm/ebPd0SkS+hImbnc6dO4cXX3wRjz76KBYtWgSz2QwA2LhxI7p27YrWrVsjNjYWgwYNwtGjR0UuLbnDpk2b2KVd5hhD+ZowYQL++9//il0MsmHs2LH48ssvkZOTI3ZRfA5fldrh8uXL6N+/P4qLiwEAKpUKTz/9NB566CGMHDkSQUFB6NixI3JycpCSkoLAwEDs2rUL7du3F7nk5IopU6Zg9erVnOdSxhhDaUpISKhzmcGDB2P48OGYNm1a1Wc9evTwZLHIAVFRUVCpVPDz88PQoUPx5JNPYtCgQVCpVGIXTfHqnuyPMH/+fJSUlOCjjz7Cfffdh23btuHdd9/FmTNn0L17d/zwww+Ijo4GAKxcuRJTp07FvHnzsHjxYpFLTkQkPYMHD67zBq9SqbBlyxZs2bKl6jMm4NLSvn17ZGZmYsOGDdi4cSOaNGmCCRMmYMKECZwf2IOYuNlh//79GDRoECZPngwAmDx5MuLj47Fz505s3bq1KmkDgMceewxr1qzBgQMHxCou2bBq1SqHlr906ZKHSkLOYgyVIyQkBMOHD4dGo6nxnSAIWL16NVq3bo3bb79dhNKRPcaMGYNp06Zhw4YNWLZsGfbu3YtPPvkEc+fOxYABA/Dkk09ixIgR8Pf3F7uoisLEzQ7Xrl3DyJEjq33WqVMn7Ny5E126dKmxfOfOnbF//35vFY/sNGXKFIeq8QVBYLW/xDCGyvDee+/h448/RkpKChYsWIBbbrmlxjKrV69Gnz59MH/+fBFKSPby9/fHAw88gAceeABpaWlYvnw5VqxYgV27dmH37t2IiorCI488gieeeAIdOnQQu7iKwMTNDuHh4VXt2yqVlJQAAAoKChAUFFTtu4KCAmi1Wq+Vj+yj1WrRqFEjPP3003Yt/8svv+DUqVMeLhU5gjFUhpdffhlDhw7F5MmTMWDAALz++ut45ZVXrNa+kXzExsbi7bffxltvvYX4+HgsW7YMW7ZswaJFi/D111+jZ8+e2L59u9jFlD0mbnZo06YNNm/ejPfffx8hISEoKSnBli1bEBISgh9++AGvvPJK1bJFRUXYsmUL2rZtK16ByaqOHTvi6tWr1eJVm/Pnz/OmLzGMoXLccsst2LFjB+bNm4dPPvkEv/76KxYsWGD1LQbJi0qlwqBBgzBo0CDk5+dj1apVWL58OY4fPy520RSBw4HY4fnnn0d6ejr69u2LSZMmoW/fvkhPT8e8efPw0Ucf4Z133sG2bduwYsUKDB06FLm5uXjggQfELjbdpHv37sjNzcXVq1fFLgo5iTFUFrVajddeew27du2qutl/+OGHMBqNYheN3CQqKgpTpkzBwYMHsWPHDrGLowiscbPD6NGjMWXKFHz99de4fPkytFotZsyYgQcffBCXLl3CRx99hIULFwKoaFPTt29fvPDCCyKXmm525513YufOnUhOTkazZs3qXP6OO+7wQqnIEYyhMnXs2BE7d+7E3Llz8emnn2Ljxo1sm6hAt912m9hFUASO4+aArKwspKamonXr1oiKiqr6fM+ePfjtt99gMBhwxx13YOzYsVCrWZlJROSo06dPY/Lkyfjjjz/w5JNPsnOCRK1cuRJdunThq20RMHEjIiIikglWCxERERHJBNu4OSglJQX79+9HSkoKioqKAFQMF9KqVSv07dsXrVq1ErmE5C75+fkoKSlBbGys2EUhK3guKgPjKH+MoXfxVamdzp8/j2nTpuHgwYMAKjoh3KiyIW2fPn3w2WefcTgQBZgyZQp++OEH5Obmil0UugHPRWVgHOWPMRQHEzc7pKSk4J577kFxcTEGDRqEgQMHonXr1ggLCwMAFBcXIzk5GTt37kR8fDwiIiKwc+dOPmXIHCcolx6ei8rAOMofYygeJm52ePrpp7F161asXr0aAwYMqHXZPXv24JFHHsHw4cPxv//9z0slJE9g4iY9PBeVgXGUP8ZQPGzjZod9+/bh/vvvr/PgBIABAwZg7NixHGhQgurVqyd2EchFPBeVgXGUP8ZQPEzc7FBaWoqGDRvavXxMTAxKS0s9WCJyhiAICA4ORtOmTe1aPiMjo2pOWpIGnovKwDjKH2MoHr4qtUOfPn0gCAL27NkDf3//Wpc1Go3o378/VCpVVYNNkoZu3bohICAAR48etWt5viqVHp6LysA4yh9jKB6O42aHp556CmfPnsX999+Pw4cP1+g5A1TU5hw6dAhjx47Fn3/+iaefflqEklJtunfvjuTkZD71yRjPRWVgHOWPMRQPa9zsIAgCXnnlFSxduhQqlQohISGIi4tDeHg4AKCoqAipqakoLS2FIAicpkWiPvvsM3zwwQfYvHkz7rzzzjqXnzx5MlavXo38/HwvlI7swXNRGRhH+WMMxcPEzQF79+7F0qVLceDAAWRkZFT7rlGjRujTpw+eeuop9OvXT6QSUm1ycnJw7tw53HLLLWjQoIHYxSEX8FxUBsZR/hhD72Pi5qSysrJqI0QHBweLXCIi38RzURkYR/ljDL2DiRsRERGRTLBzgos2bdqEqVOnil0MchHjKH+MoTIwjvLHGHoWEzcXnT59GqtWrRK7GOQixlH+GENlYBzljzH0LCZuRERERDLBxI2IiIhIJpi4EREREckE5yp1Ud++fcUuArkB4yh/jKEyMI7yxxh6FocDISIiIpIJ1ri5yGg04s8//4ROp0NcXBwaNmwodpHICYwjERHJAdu42eGPP/7ATz/9BIvFUvWZyWTC+++/j5YtW6J///4YMmQI2rdvjxEjRuDChQsilpZsYRzl77bbbsPrr7+OU6dOiV0UcgHjKH+MoXj4qtQOjz/+OC5cuIAjR45Uffb8889jzZo1CA0NRY8ePRAREYHz58/j7NmzqFevHuLj49G8eXMRS003YxzlLyoqCiqVCgDQtWtXPPnkk3jwwQerJrYmeWAc5Y8xFA8TNzt07twZAwcOxBdffAEASEpKQr9+/dC7d28sX74c9evXr1p29erVmDJlCh599FF89dVXYhWZrGAc5S8qKgp33HEHCgsLcfbsWahUKgQGBmLMmDF4/PHH0adPH7GLSHZgHOWPMRQPX5XaITs7u1qbp4MHD0KlUmHOnDnVbvYA8Oijj+K+++5DfHy8t4tJdWAcleHuu+/GwYMH8dtvv+GJJ56An58fVq9ejVGjRqFXr1744osvkJWVJXYxqQ6Mo/wxhuJg4maH8PBw5ObmVv27vLwcANC6dWury7dp0wb5+fleKRvZj3FUlp49e2L+/Pn4888/sWDBAvTu3RsXL17Ee++9h86dO+Pxxx/H9u3bIQh8qSBljKP8MYbexcTNDj179sT27duh1+sBAB07doQgCDhx4oTV5U+cOMFeiRLEOCpTUFAQJkyYgC1btuDYsWP45z//iaioKGzatAmPPvooOnfuLHYRyQ6Mo/wxht7BxM0OU6ZMwfXr1zFx4kSUlJRg0KBB6NWrF15++WUkJSVVLWcwGDBz5kwcPHgQI0eOFLHEZA3jqHxt2rTBjBkzcObMGSxbtgz33nsvMjMzxS4WOYhxlD/G0HPYOcFOc+fOxcyZMxEWFoaBAwciKioKy5YtgyAIaNKkCSIiInDlyhWUlpaidevW+O233xAZGSl2sekmjKO8RUVF4a233sKbb75p999kZGSgUaNGHiwVOYpxlD/GUDwcgNdO//rXv9CxY0e8//77WL9+fbXvrl69iqtXryIoKAhPPfUUpk+fzpu9RDGOvoc3CmVgHOWPMXQP1rg54Y8//sCJEyeQk5MDi8WC8PBwtG3bFj179kRISIjYxSM7MY7ys3//fsTFxSEuLk7sopALGEf5YwzFw8SNiIiISCbYOYGIiIhIJpi4ecDFixdx4MABsYtBLmIc5Y8xVAbGUf4YQ/dh4uYBn332GUaNGiV2MchFjKP8MYbKwDjKH2PoPkzciIiIiGSCw4HYIS0tzaHlS0tLPVQScgXjKH+MoTIwjvLHGIqHvUrtEBUVBZVK5fDf5eXleaA05CzGUf4YQ2VgHOWPMRQPa9zsoFKpEBUVhVtvvdWu5c+cOYOMjAwPl4ocxTjKH2OoDIyj/DGG4mHiZoc2bdpAr9djzZo1di0/ZcoUrF692sOlIkcxjvLHGCoD4yh/jKF42DnBDt26dUNaWhoKCgrELgq5gHGUP8ZQGRhH+WMMxcPEzQ5du3aFIAg4efKkXcvXq1cPzZo183CpyFGMo/wxhsrAOMofYygedk6wQ3l5ObKzsxEdHc05LGWMcZQ/xlAZGEf5YwzFw8SNiIiISCb4qpSIiIhIJtir1AmXLl1CcnIyioqKAADh4eFo3bo1WrZsKXLJyBGMo/wxhsrAOMofY+g9TNzsVF5ejvnz52P58uW4fv261WUaN26MJ598Ei+99BKCgoK8XEKyB+Mof4yhMjCO8scYioNt3OxQXFyMkSNH4tSpU4iMjMRdd92F1q1bIywsrOr75ORkHDx4EAUFBejWrRs2bNhQ9T1JA+Mof4yhMjCO8scYioc1bnaYNWsWTp06hTfeeAPTpk1DQECA1eX0ej0+/fRTzJkzB5988gk++OADL5eUasM4yh9jqAyMo/wxhuJhjZsdunTpgg4dOuDHH3+0a/mHHnoI586dw+nTpz1cMnIE4yh/jKEyMI7yxxiKh71K7ZCVlYXOnTvbvXyXLl2QlZXlwRKRMxhH+WMMlYFxlD/GUDxM3OzQsGFDnDp1yu7lExMT0bBhQw+WiJzBOMofY6gMjKP8MYbiYeJmh1GjRiE+Ph4zZsxAeXm5zeXKy8vx/vvvY/fu3RgzZowXS0j2YBzljzFUBsZR/hhD8bCNmx2Ki4sxfPhwJCUlISwsDL1790arVq0QHh4OACgqKkJKSgqOHDmC4uJidOnSBZs2bWLvGYlhHOWPMVQGxlH+GEPxMHGzU1lZGT7//HMsX74c6enpVpdp3LgxnnjiCbz88ssIDg72cgnJHoyj/DGGysA4yh9jKA4mbk5ITk62OkJ069atRS4ZOYJxlD/GUBkYR/ljDL2HiRsRERGRTLBzggOMRiMSExORlJQEQbCd7yYlJWHVqlVeLBk5gnGUP8ZQGRhH+WMMvY+Jm53Wr1+P9u3bY+DAgejfvz86deqEn376yeqyGzduxNSpU71cQrIH4yh/jKEyMI7yxxiKg4mbHRISEvDMM8+guLgY99xzD+69917k5eVh0qRJmDZtmtjFIzsxjvLHGCoD4yh/jKF4OFepHebPnw+1Wo1ff/0Vd9xxBwAgLS0NkyZNwnfffYfy8nJ89dVXUKlUIpeUasM4yh9jqAyMo/wxhuJhjZsdjhw5ghEjRlQdnAAQGxuLX3/9FQ8++CBWr16NSZMm1fp+n8THOMofY6gMjKP8MYbiYY2bHfLz8612afbz88PixYuh1WqxYsUKCIKAxYsXi1BCsgfjKH+MoTIwjvLHGIqHiZsdGjZsiOzsbKvfqVQqLFiwAIIgYOXKlbBYLGjZsqWXS0j2YBzljzFUBsZR/hhD8TBxs0O7du1w4MCBWpdZsGABAGDlypWc0kOiGEf5YwyVgXGUP8ZQPGzjZofBgwcjJSUFhw8ftrlM5RPG+PHjUVxc7MXSkb0YR/ljDJWBcZQ/xlA8rHGzw/3334/s7Gzk5OTUupxKpcLChQsRGxuLtLQ0L5WO7MU4yh9jqAyMo/wxhuLhlFdEREREMsFXpUREREQywcSNiIiISCaYuBERERHJBBM3IiIiIplgr1IiUpQRI0bUGF8qICAA4eHhaNiwIbp27Yp+/fph7NixCA4Oduu2V6xYgdTUVIwYMQJdu3Z167qJiAAmbkSkUM2aNUOzZs0AACaTCUVFRUhOTsYff/yBVatW4a233sJ7772HZ555xm3bXLlyJQ4cOIC4uDgmbkTkEUzciEiRJkyYgLfffrvaZ0ajEUePHsWCBQuwZcsWTJs2DefPn8esWbNEKiURkWPYxo2IfIa/vz/69OmDVatWYfr06QCAr7/+Gr/++qvIJSMisg8TNyLySdOmTcOAAQMAAJ988km1706ePImZM2fivvvuQ8eOHdGgQQO0bNkSo0aNwurVqyEI1cct37dvHyIjI6va1k2dOhWRkZFV/xsxYkSN7f/xxx+YOnUqunXrhpiYGMTFxWHo0KFYunQpzGazh341EckdX5USkc+aNGkS9uzZg6SkJKSmpiIuLg4A8PLLLyMxMRHh4eFo1KgRYmJikJGRgX379mHfvn2Ij4/HN998U7We8PBw3HHHHThz5gyKiorQunVrNGjQoOr7jh07VtvukiVL8NZbb8FsNiMkJARt2rRBYWEhDh8+jMOHD2Pz5s1Yvnw5/Px4iSai6nhVICKfddddd0GlUkEQBBw/frwqcZs6dSo6depUI+H6/fffMXHiRPz4448YPnw4xo4dCwDo1q0btm7dWtWjddq0aZgwYYLVbW7fvh1vvPEGAgMDMXPmTDz11FPQaDQAgMTERDz77LPYunUr5syZU6ONHhERX5USkc+KjIxEWFgYACArK6vq84ceeqhG0gYAt912Gz799FMAFUN/OEoQBEyfPh2CIOCjjz7CM888U5W0AUD37t3x7bffQqVSYdGiRdDr9Q5vg4iUjTVuROTTQkNDUVRUhJKSkmqfp6amYt26dTh58iRyc3NhMBgAoCqZOnnypMPbOnfuHM6dO4fAwECMHz/e6jLdu3dHbGwsUlNTkZiYiN69ezu8HSJSLiZuROTTKhO2ypo3AFi8eDHeeeedqmTNmry8PIe3lZSUBABQqVRVr1mtyc/PBwBcv37d4W0QkbIxcSMin5Wfn4+ioiIAQMOGDQEAR48exZtvvgkAmDhxIsaPH49WrVohLCwMGo0Gly9fRvfu3WEymRzeXkFBAQCgvLwchw8frnP5srIyh7dBRMrGxI2IfNbBgwer/n+vXr0AAKtWrQIAjB07FnPmzKnxN87UtFUKCQkBAHTp0gX79u1zej1E5LvYOYGIfNbixYsBAF27dq2aHuvKlSsAgDvvvNPq3xw5csTm+lQqVa3bq+zwcO7cuaraNyIiRzBxIyKf9Nlnn2Hv3r0AgNdff73q86CgIABARkZGjb8pLy/HkiVLbK6zctJ6nU5n9ftu3bqhdevWMBqNmD9/vtNlJyLfxcSNiHyGyWTCwYMHMX78eMyYMQMAMHnyZIwaNapqmT59+gAAvv32Wxw7dqzq8+zsbDz55JO1dhho2bIlAGD//v01ZlcAKmrkZs6cCZVKhc8//xwzZsxAYWFhtWVKS0vx66+/4sUXX3T+hxKRYqkKCgpqXl2IiGSqchDcZs2aVb3+NJvNKCoqQmpqKsrLywFUzHbw3nvv4Zlnnqn29yUlJRg0aBD+/PNPqFQqtGrVCiEhITh79izUajXmzJmDl156CQBqvO5MSEjAvffeC4vFgqZNmyIuLg5qtRpdunSpNpH9smXL8K9//Qt6vR7+/v5o27YtgoODkZ+fj8uXL8NsNiM2NhanT5/24J4iIjli4kZEilKZuN1Iq9UiPDwcMTEx6NKlC/r374+xY8dWvdq8WV5eHmbOnInNmzcjJycH9erVw1133YXXXnsNYWFh6NatG4CaiRsAbNmyBQsXLsTp06dRXFwMi8WCPn36YNOmTdWWu3TpEhYvXozdu3cjLS0NFoulas7SQYMGYeTIkWjdurV7dgoRKQYTNyIiIiKZYBs3IiIiIplg4kZEREQkE0zciIiIiGSCiRsRERGRTDBxIyIiIpIJJm5EREREMsHEjYiIiEgmmLgRERERyQQTNyIiIiKZYOJGREREJBNM3IiIiIhkgokbERERkUwwcSMiIiKSCSZuRERERDLx/wHwo6Vz/UzbGgAAAABJRU5ErkJggg==",
      "text/plain": [
       "<Figure size 640x480 with 1 Axes>"
      ]
     },
     "metadata": {},
     "output_type": "display_data"
    }
   ],
   "source": [
    "\n"
   ]
  },
  {
   "cell_type": "code",
<<<<<<< HEAD
   "execution_count": 16,
=======
   "execution_count": 131,
>>>>>>> dd833d8696d66fd85ce77aa1e013de234bbb2936
   "metadata": {},
   "outputs": [
    {
     "data": {
      "text/html": [
       "<div>\n",
       "<style scoped>\n",
       "    .dataframe tbody tr th:only-of-type {\n",
       "        vertical-align: middle;\n",
       "    }\n",
       "\n",
       "    .dataframe tbody tr th {\n",
       "        vertical-align: top;\n",
       "    }\n",
       "\n",
       "    .dataframe thead th {\n",
       "        text-align: right;\n",
       "    }\n",
       "</style>\n",
       "<table border=\"1\" class=\"dataframe\">\n",
       "  <thead>\n",
       "    <tr style=\"text-align: right;\">\n",
       "      <th></th>\n",
       "      <th>precipitation</th>\n",
       "    </tr>\n",
       "  </thead>\n",
       "  <tbody>\n",
       "    <tr>\n",
       "      <th>count</th>\n",
       "      <td>2021.000000</td>\n",
       "    </tr>\n",
       "    <tr>\n",
       "      <th>mean</th>\n",
       "      <td>0.177279</td>\n",
       "    </tr>\n",
       "    <tr>\n",
       "      <th>std</th>\n",
       "      <td>0.461190</td>\n",
       "    </tr>\n",
       "    <tr>\n",
       "      <th>min</th>\n",
       "      <td>0.000000</td>\n",
       "    </tr>\n",
       "    <tr>\n",
       "      <th>25%</th>\n",
       "      <td>0.000000</td>\n",
       "    </tr>\n",
       "    <tr>\n",
       "      <th>50%</th>\n",
       "      <td>0.020000</td>\n",
       "    </tr>\n",
       "    <tr>\n",
       "      <th>75%</th>\n",
       "      <td>0.130000</td>\n",
       "    </tr>\n",
       "    <tr>\n",
       "      <th>max</th>\n",
       "      <td>6.700000</td>\n",
       "    </tr>\n",
       "  </tbody>\n",
       "</table>\n",
       "</div>"
      ],
      "text/plain": [
       "       precipitation\n",
       "count    2021.000000\n",
       "mean        0.177279\n",
       "std         0.461190\n",
       "min         0.000000\n",
       "25%         0.000000\n",
       "50%         0.020000\n",
       "75%         0.130000\n",
       "max         6.700000"
      ]
     },
<<<<<<< HEAD
     "execution_count": 16,
=======
     "execution_count": 131,
>>>>>>> dd833d8696d66fd85ce77aa1e013de234bbb2936
     "metadata": {},
     "output_type": "execute_result"
    }
   ],
   "source": [
    "# Use Pandas to calculate the summary statistics for the precipitation data\n",
    "sorted_df.describe()"
   ]
  },
  {
   "attachments": {},
   "cell_type": "markdown",
   "metadata": {},
   "source": [
    "# Exploratory Station Analysis"
   ]
  },
  {
   "cell_type": "code",
<<<<<<< HEAD
   "execution_count": 17,
=======
   "execution_count": 70,
>>>>>>> dd833d8696d66fd85ce77aa1e013de234bbb2936
   "metadata": {},
   "outputs": [
    {
     "name": "stdout",
     "output_type": "stream",
     "text": [
      "station\n",
      "id INTEGER\n",
      "station TEXT\n",
      "name TEXT\n",
      "latitude FLOAT\n",
      "longitude FLOAT\n",
      "elevation FLOAT\n"
     ]
    }
   ],
   "source": [
    "# inspect station table\n",
    "print('station')\n",
    "columns = inspector.get_columns('station')\n",
    "for c in columns:\n",
    "    print(c['name'], c['type'])"
   ]
  },
  {
   "cell_type": "code",
<<<<<<< HEAD
   "execution_count": 18,
=======
   "execution_count": 133,
>>>>>>> dd833d8696d66fd85ce77aa1e013de234bbb2936
   "metadata": {},
   "outputs": [
    {
     "data": {
      "text/plain": [
       "[(1, 'USC00519397', 'WAIKIKI 717.2, HI US', 21.2716, -157.8168, 3.0),\n",
       " (2, 'USC00513117', 'KANEOHE 838.1, HI US', 21.4234, -157.8015, 14.6),\n",
       " (3, 'USC00514830', 'KUALOA RANCH HEADQUARTERS 886.9, HI US', 21.5213, -157.8374, 7.0),\n",
       " (4, 'USC00517948', 'PEARL CITY, HI US', 21.3934, -157.9751, 11.9),\n",
       " (5, 'USC00518838', 'UPPER WAHIAWA 874.3, HI US', 21.4992, -158.0111, 306.6),\n",
       " (6, 'USC00519523', 'WAIMANALO EXPERIMENTAL FARM, HI US', 21.33556, -157.71139, 19.5),\n",
       " (7, 'USC00519281', 'WAIHEE 837.5, HI US', 21.45167, -157.84888999999998, 32.9),\n",
       " (8, 'USC00511918', 'HONOLULU OBSERVATORY 702.2, HI US', 21.3152, -157.9992, 0.9),\n",
       " (9, 'USC00516128', 'MANOA LYON ARBO 785.2, HI US', 21.3331, -157.8025, 152.4)]"
      ]
     },
<<<<<<< HEAD
     "execution_count": 18,
=======
     "execution_count": 133,
>>>>>>> dd833d8696d66fd85ce77aa1e013de234bbb2936
     "metadata": {},
     "output_type": "execute_result"
    }
   ],
   "source": [
    "# review table contents\n",
    "engine.execute('SELECT * FROM Station').fetchall()"
   ]
  },
  {
   "cell_type": "code",
<<<<<<< HEAD
   "execution_count": 19,
=======
   "execution_count": 73,
>>>>>>> dd833d8696d66fd85ce77aa1e013de234bbb2936
   "metadata": {},
   "outputs": [
    {
     "data": {
      "text/plain": [
       "[(9,)]"
      ]
     },
<<<<<<< HEAD
     "execution_count": 19,
=======
     "execution_count": 73,
>>>>>>> dd833d8696d66fd85ce77aa1e013de234bbb2936
     "metadata": {},
     "output_type": "execute_result"
    }
   ],
   "source": [
    "# Design a query to calculate the total number of stations in the dataset\n",
    "st_count = session.query(func.count(Station.station)).all()\n",
    "st_count"
   ]
  },
  {
   "cell_type": "code",
<<<<<<< HEAD
   "execution_count": 20,
=======
   "execution_count": 134,
>>>>>>> dd833d8696d66fd85ce77aa1e013de234bbb2936
   "metadata": {},
   "outputs": [
    {
     "data": {
      "text/plain": [
       "[('USC00519281', 2772),\n",
       " ('USC00519397', 2724),\n",
       " ('USC00513117', 2709),\n",
       " ('USC00519523', 2669),\n",
       " ('USC00516128', 2612),\n",
       " ('USC00514830', 2202),\n",
       " ('USC00511918', 1979),\n",
       " ('USC00517948', 1372),\n",
       " ('USC00518838', 511)]"
      ]
     },
<<<<<<< HEAD
     "execution_count": 20,
=======
     "execution_count": 134,
>>>>>>> dd833d8696d66fd85ce77aa1e013de234bbb2936
     "metadata": {},
     "output_type": "execute_result"
    }
   ],
   "source": [
    "#Design a query to find the most-active stations (that is, the stations that have the most rows).\n",
    "\n",
    "activity = session.query(Measr.station, func.count(Measr.station)). \\\n",
    "                         group_by(Measr.station).order_by(func.count(Measr.station).desc()).all()\n",
    "activity"
   ]
  },
  {
   "cell_type": "code",
<<<<<<< HEAD
   "execution_count": 21,
=======
   "execution_count": 107,
>>>>>>> dd833d8696d66fd85ce77aa1e013de234bbb2936
   "metadata": {},
   "outputs": [
    {
     "data": {
      "text/plain": [
       "[(54.0, 85.0, 71.66378066378067)]"
      ]
     },
<<<<<<< HEAD
     "execution_count": 21,
=======
     "execution_count": 107,
>>>>>>> dd833d8696d66fd85ce77aa1e013de234bbb2936
     "metadata": {},
     "output_type": "execute_result"
    }
   ],
   "source": [
    "# Using the most active station id from the previous query, calculate the lowest, highest, and average temperature.\n",
<<<<<<< HEAD
    "sel = [func.min(Measr.tobs), func.max(Measr.tobs), func.avg(Measr.tobs)]\n",
=======
    "sel = [func.min(measr.tobs), func.max(measr.tobs), func.avg(measr.tobs)]\n",
>>>>>>> dd833d8696d66fd85ce77aa1e013de234bbb2936
    "\n",
    "st_active = session.query(*sel). \\\n",
    "    filter(Measr.station == \"USC00519281\").all()\n",
    "\n",
    "st_active"
   ]
  },
  {
   "cell_type": "code",
<<<<<<< HEAD
   "execution_count": 22,
=======
   "execution_count": 154,
>>>>>>> dd833d8696d66fd85ce77aa1e013de234bbb2936
   "metadata": {},
   "outputs": [
    {
     "data": {
      "text/html": [
       "<div>\n",
       "<style scoped>\n",
       "    .dataframe tbody tr th:only-of-type {\n",
       "        vertical-align: middle;\n",
       "    }\n",
       "\n",
       "    .dataframe tbody tr th {\n",
       "        vertical-align: top;\n",
       "    }\n",
       "\n",
       "    .dataframe thead th {\n",
       "        text-align: right;\n",
       "    }\n",
       "</style>\n",
       "<table border=\"1\" class=\"dataframe\">\n",
       "  <thead>\n",
       "    <tr style=\"text-align: right;\">\n",
       "      <th></th>\n",
       "      <th>date</th>\n",
       "      <th>tobs</th>\n",
       "    </tr>\n",
       "  </thead>\n",
       "  <tbody>\n",
       "    <tr>\n",
       "      <th>0</th>\n",
       "      <td>2016-08-23</td>\n",
       "      <td>77.0</td>\n",
       "    </tr>\n",
       "    <tr>\n",
       "      <th>1</th>\n",
       "      <td>2016-08-24</td>\n",
       "      <td>77.0</td>\n",
       "    </tr>\n",
       "    <tr>\n",
       "      <th>2</th>\n",
       "      <td>2016-08-25</td>\n",
       "      <td>80.0</td>\n",
       "    </tr>\n",
       "    <tr>\n",
       "      <th>3</th>\n",
       "      <td>2016-08-26</td>\n",
       "      <td>80.0</td>\n",
       "    </tr>\n",
       "    <tr>\n",
       "      <th>4</th>\n",
       "      <td>2016-08-27</td>\n",
       "      <td>75.0</td>\n",
       "    </tr>\n",
       "    <tr>\n",
       "      <th>...</th>\n",
       "      <td>...</td>\n",
       "      <td>...</td>\n",
       "    </tr>\n",
       "    <tr>\n",
       "      <th>347</th>\n",
       "      <td>2017-08-14</td>\n",
       "      <td>77.0</td>\n",
       "    </tr>\n",
       "    <tr>\n",
       "      <th>348</th>\n",
       "      <td>2017-08-15</td>\n",
       "      <td>77.0</td>\n",
       "    </tr>\n",
       "    <tr>\n",
       "      <th>349</th>\n",
       "      <td>2017-08-16</td>\n",
       "      <td>76.0</td>\n",
       "    </tr>\n",
       "    <tr>\n",
       "      <th>350</th>\n",
       "      <td>2017-08-17</td>\n",
       "      <td>76.0</td>\n",
       "    </tr>\n",
       "    <tr>\n",
       "      <th>351</th>\n",
       "      <td>2017-08-18</td>\n",
       "      <td>79.0</td>\n",
       "    </tr>\n",
       "  </tbody>\n",
       "</table>\n",
       "<p>352 rows × 2 columns</p>\n",
       "</div>"
      ],
      "text/plain": [
       "           date  tobs\n",
       "0    2016-08-23  77.0\n",
       "1    2016-08-24  77.0\n",
       "2    2016-08-25  80.0\n",
       "3    2016-08-26  80.0\n",
       "4    2016-08-27  75.0\n",
       "..          ...   ...\n",
       "347  2017-08-14  77.0\n",
       "348  2017-08-15  77.0\n",
       "349  2017-08-16  76.0\n",
       "350  2017-08-17  76.0\n",
       "351  2017-08-18  79.0\n",
       "\n",
       "[352 rows x 2 columns]"
      ]
     },
<<<<<<< HEAD
     "execution_count": 22,
=======
     "execution_count": 154,
>>>>>>> dd833d8696d66fd85ce77aa1e013de234bbb2936
     "metadata": {},
     "output_type": "execute_result"
    }
   ],
   "source": [
<<<<<<< HEAD
    "seltobs = [Measr.date,\n",
    "           Measr.tobs,\n",
    "           ]\n",
    "\n",
    "most_active = session.query(*seltobs).\\\n",
    "    filter(Measr.date >= year). \\\n",
    "    filter(Measr.station == 'USC00519281').\\\n",
    "    order_by(Measr.date).all()\n",
=======
    "seltobs = [measr.date,\n",
    "           measr.tobs,\n",
    "           ]\n",
    "\n",
    "most_active = session.query(*seltobs).\\\n",
    "    filter(measr.date >= year). \\\n",
    "    filter(measr.station == 'USC00519281').\\\n",
    "    order_by(measr.date).all()\n",
>>>>>>> dd833d8696d66fd85ce77aa1e013de234bbb2936
    "\n",
    "active_df = pd.DataFrame(most_active)\n",
    "active_df"
   ]
  },
  {
   "cell_type": "code",
<<<<<<< HEAD
   "execution_count": 23,
=======
   "execution_count": 155,
>>>>>>> dd833d8696d66fd85ce77aa1e013de234bbb2936
   "metadata": {},
   "outputs": [
    {
     "data": {
      "text/plain": [
       "Text(0.5, 0, 'Temperature')"
      ]
     },
<<<<<<< HEAD
     "execution_count": 23,
=======
     "execution_count": 155,
>>>>>>> dd833d8696d66fd85ce77aa1e013de234bbb2936
     "metadata": {},
     "output_type": "execute_result"
    },
    {
     "data": {
      "image/png": "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",
      "text/plain": [
       "<Figure size 640x480 with 1 Axes>"
      ]
     },
     "metadata": {},
     "output_type": "display_data"
    }
   ],
   "source": [
    "# Using the most active station id\n",
    "# Query the last 12 months of temperature observation data for this station and plot the results as a histogram\n",
    "active_df.plot(kind='hist', bins=12)\n",
    "plt.xlabel('Temperature')"
   ]
  },
  {
   "cell_type": "code",
   "execution_count": 15,
   "metadata": {},
   "outputs": [
    {
     "data": {
      "text/plain": [
       "Text(0.5, 4.183333333333314, 'Temperature')"
      ]
     },
     "execution_count": 15,
     "metadata": {},
     "output_type": "execute_result"
    },
    {
     "data": {
      "image/png": "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",
      "text/plain": [
       "<Figure size 640x480 with 1 Axes>"
      ]
     },
     "metadata": {},
     "output_type": "display_data"
    }
   ],
   "source": [
    "# Using the most active station id\n",
    "# Query the last 12 months of temperature observation data for this station and plot the results as a histogram\n"
   ]
  },
  {
   "attachments": {},
   "cell_type": "markdown",
   "metadata": {},
   "source": [
    "# Close Session"
   ]
  },
  {
   "cell_type": "code",
   "execution_count": 156,
   "metadata": {},
   "outputs": [],
   "source": [
    "# Close Session\n",
    "session.close()"
   ]
  },
  {
   "cell_type": "code",
   "execution_count": null,
   "metadata": {},
   "outputs": [],
   "source": []
  }
 ],
 "metadata": {
  "anaconda-cloud": {},
  "kernel_info": {
   "name": "python3"
  },
  "kernelspec": {
   "display_name": "Python 3 (ipykernel)",
   "language": "python",
   "name": "python3"
  },
  "language_info": {
   "codemirror_mode": {
    "name": "ipython",
    "version": 3
   },
   "file_extension": ".py",
   "mimetype": "text/x-python",
   "name": "python",
   "nbconvert_exporter": "python",
   "pygments_lexer": "ipython3",
   "version": "3.10.9"
  },
  "nteract": {
   "version": "0.12.3"
  },
  "varInspector": {
   "cols": {
    "lenName": 16,
    "lenType": 16,
    "lenVar": 40
   },
   "kernels_config": {
    "python": {
     "delete_cmd_postfix": "",
     "delete_cmd_prefix": "del ",
     "library": "var_list.py",
     "varRefreshCmd": "print(var_dic_list())"
    },
    "r": {
     "delete_cmd_postfix": ") ",
     "delete_cmd_prefix": "rm(",
     "library": "var_list.r",
     "varRefreshCmd": "cat(var_dic_list()) "
    }
   },
   "types_to_exclude": [
    "module",
    "function",
    "builtin_function_or_method",
    "instance",
    "_Feature"
   ],
   "window_display": false
  }
 },
 "nbformat": 4,
 "nbformat_minor": 4
}
